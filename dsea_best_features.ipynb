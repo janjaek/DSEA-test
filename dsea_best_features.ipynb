{
 "cells": [
  {
   "cell_type": "code",
   "execution_count": 1,
   "metadata": {},
   "outputs": [],
   "source": [
    "import pandas as pd\n",
    "import numpy as np\n",
    "from cherenkovdeconvolution import util\n",
    "from mord import LogisticAT\n",
    "from cherenkovdeconvolution import dsea\n",
    "from sklearn.tree import ExtraTreeClassifier\n",
    "from matplotlib import pyplot as plt\n",
    "from sklearn.preprocessing import power_transform\n",
    "import cherenkovdeconvolution.stepsize as stepsize\n",
    "from sklearn.ensemble import RandomForestClassifier\n",
    "df=pd.read_csv('sample.csv', nrows=500000)\n",
    "X = df[['SplineMPEDirectHitsICE.n_dir_doms',\n",
    "        'VariousVariables.Cone_Angle',\n",
    "        'SplineMPECramerRaoParams.variance_theta',\n",
    "        'Borderness.Q_ratio_in_border',\n",
    "        'SplineMPETruncatedEnergy_SPICEMie_BINS_MuEres.value',\n",
    "        #'SplineMPETruncatesEnergy_SPICEMie_DOMS_Neutrino.energy', That feature is not in my MC\n",
    "        'SplineMPEDirectHitsICB.n_late_doms',\n",
    "        'Dustyness.n_doms_in_dust',\n",
    "        'LineFitGeoSplit1Params.n_hits',\n",
    "        'SplineMPEDirectHitsICC.dir_track_hit_distribution_smoothness',\n",
    "        'SPEFit2GeoSplit1BayesianFitParams.logl',\n",
    "        'SplineMPECharacteristicsIC.avg_dom_dist_q_tot_dom']]\n",
    "Y = df['MCPrimary.energy']"
   ]
  },
  {
   "cell_type": "code",
   "execution_count": 2,
   "metadata": {},
   "outputs": [
    {
     "data": {
      "text/plain": [
       "array([2.5592e-01, 3.6756e-01, 2.1952e-01, 9.6880e-02, 3.8640e-02,\n",
       "       1.4100e-02, 4.6800e-03, 1.6600e-03, 6.8000e-04, 2.4000e-04,\n",
       "       8.0000e-05, 4.0000e-05])"
      ]
     },
     "execution_count": 2,
     "metadata": {},
     "output_type": "execute_result"
    }
   ],
   "source": [
    "binning_E = np.logspace(np.log10(Y.min()-10),\n",
    "np.log10(Y.max()+100), 13)    # creating 12 bins for the energy \n",
    "#Binning overflow & underflow manually\n",
    "#overflow = 1e10\n",
    "#bins_over = np.append(binning_E,overflow)\n",
    "#binning_E = bins_over\n",
    "\n",
    "Y = np.digitize(Y, binning_E)  \n",
    "\n",
    "Y = Y - 1\n",
    "\n",
    "bin_1=[i for i in binning_E[:-1]]\n",
    "bin_2=[i for i in binning_E[1:]]\n",
    "bin_centers = np.mean([bin_1, bin_2], axis=0)\n",
    "n_test = int(len(df)/10)\n",
    "\n",
    "X_train = X.iloc[n_test:]#splitting the dataframe\n",
    "Y_train = Y[n_test:]\n",
    "\n",
    "X_test = X.iloc[:n_test]\n",
    "Y_test = Y[:n_test]\n",
    "\n",
    "f_true = util.fit_pdf(Y_test) \n",
    "f_true"
   ]
  },
  {
   "cell_type": "code",
   "execution_count": 3,
   "metadata": {},
   "outputs": [],
   "source": [
    "#Yeo-Johnson-Transformation\n",
    "X_box= power_transform(X, method='yeo-johnson')    \n",
    "X_btrain = X_box[n_test:]#splitting the dataframe\n",
    "X_btest = X_box[:n_test]\n"
   ]
  },
  {
   "cell_type": "code",
   "execution_count": 4,
   "metadata": {},
   "outputs": [
    {
     "name": "stdout",
     "output_type": "stream",
     "text": [
      "0\n",
      "1\n",
      "2\n",
      "3\n",
      "Chi square distance between f_est and f_true: 0.2220793510698484\n"
     ]
    },
    {
     "data": {
      "image/png": "[encoded data removed]",
      "text/plain": [
       "<Figure size 432x288 with 1 Axes>"
      ]
     },
     "metadata": {
      "needs_background": "light"
     },
     "output_type": "display_data"
    }
   ],
   "source": [
    "#logistic AT with decaying stepsize(transformed data)\n",
    "def inspect_alpha(k, alpha, chi2s, f):\n",
    "    print(alpha)\n",
    "\n",
    "\n",
    "alpha_mul = stepsize.decay_mul(0.5)\n",
    "f_AT_mul = dsea(X_btest, X_btrain, Y_train, LogisticAT(), K = 3, inspect = inspect_alpha, alpha = alpha_mul)\n",
    "print('Chi square distance between f_est and f_true: {}'.format(util.chi2s(f_AT_mul, f_true)))\n",
    "plt.hist(bin_centers, bins = binning_E, weights = f_true, alpha = 0.5,label ='f_true')\n",
    "plt.hist(bin_centers, bins = binning_E, weights = f_AT_mul, alpha = 0.5,histtype = 'step',label='f_AT')\n",
    "plt.gca().set_xscale('log')\n",
    "plt.yscale('log')\n",
    "plt.xlabel('Energy/GeV')\n",
    "plt.legend(loc='best')\n",
    "plt.show()"
   ]
  },
  {
   "cell_type": "code",
   "execution_count": 5,
   "metadata": {},
   "outputs": [
    {
     "data": {
      "text/plain": [
       "array([0.08536, 0.1916 , 0.20522, 0.17122, 0.12734, 0.0837 , 0.05384,\n",
       "       0.03258, 0.02042, 0.01236, 0.0068 , 0.00434, 0.00522])"
      ]
     },
     "execution_count": 5,
     "metadata": {},
     "output_type": "execute_result"
    }
   ],
   "source": [
    "#trying out Tim Ruhes advice\n",
    "Y = df['MCPrimary.energy']\n",
    "binning_E = np.logspace(np.log10(Y.min()-10),# creating 12 bins for the energy \n",
    "np.log10(1e5), 13)    #limiting my energy to 1e5 GeV\n",
    "#Binning overflow & underflow manually\n",
    "overflow = 1e9\n",
    "bins_over = np.append(binning_E,overflow)\n",
    "binning_E = bins_over\n",
    "\n",
    "Y = np.digitize(Y, binning_E)  \n",
    "\n",
    "Y = Y - 1\n",
    "\n",
    "bin_1=[i for i in binning_E[:-1]]\n",
    "bin_2=[i for i in binning_E[1:]]\n",
    "bin_centers = np.mean([bin_1, bin_2], axis=0)\n",
    "#n_test = int(len(df)/10)\n",
    "\n",
    "\n",
    "Y_train = Y[n_test:]\n",
    "\n",
    "\n",
    "Y_test = Y[:n_test]\n",
    "\n",
    "f_true = util.fit_pdf(Y_test) \n",
    "f_true\n"
   ]
  },
  {
   "cell_type": "code",
   "execution_count": 6,
   "metadata": {},
   "outputs": [
    {
     "name": "stdout",
     "output_type": "stream",
     "text": [
      "0\n",
      "1\n",
      "2\n",
      "3\n",
      "Chi square distance between f_est and f_true: 0.16351851376069956\n"
     ]
    },
    {
     "data": {
      "image/png": "[encoded data removed]",
      "text/plain": [
       "<Figure size 432x288 with 1 Axes>"
      ]
     },
     "metadata": {
      "needs_background": "light"
     },
     "output_type": "display_data"
    }
   ],
   "source": [
    "#logistic AT with decaying stepsize(transformed data+limit to 1e5 GeV)\n",
    "def inspect_alpha(k, alpha, chi2s, f):\n",
    "    print(alpha)\n",
    "\n",
    "\n",
    "alpha_mul = stepsize.decay_mul(0.5)\n",
    "f_AT_mul = dsea(X_btest, X_btrain, Y_train, LogisticAT(), K = 3, inspect = inspect_alpha, alpha = alpha_mul)\n",
    "print('Chi square distance between f_est and f_true: {}'.format(util.chi2s(f_AT_mul, f_true)))\n",
    "plt.hist(bin_centers, bins = binning_E[0:13], weights = f_true, alpha = 0.5,label ='f_true')\n",
    "plt.hist(bin_centers, bins = binning_E[0:13], weights = f_AT_mul, alpha = 0.5,histtype = 'step',label='f_AT')\n",
    "plt.gca().set_xscale('log')\n",
    "plt.yscale('log')\n",
    "plt.xlabel('Energy/GeV')\n",
    "plt.legend(loc='best')\n",
    "plt.show()"
   ]
  },
  {
   "cell_type": "code",
   "execution_count": 8,
   "metadata": {},
   "outputs": [
    {
     "name": "stdout",
     "output_type": "stream",
     "text": [
      "Chi square distance between f_est and f_true: 0.0003670241250109776\n"
     ]
    },
    {
     "data": {
      "image/png": "[encoded data removed]",
      "text/plain": [
       "<Figure size 432x288 with 1 Axes>"
      ]
     },
     "metadata": {
      "needs_background": "light"
     },
     "output_type": "display_data"
    }
   ],
   "source": [
    "#Random Forrest for comperision\n",
    "f_est= dsea(X_test, X_train, Y_train,RandomForestClassifier(), K=3)\n",
    "print('Chi square distance between f_est and f_true: {}'.format(util.chi2s(f_est, f_true)))\n",
    "plt.hist(bin_centers, bins = binning_E[0:13], weights = f_true, alpha = 0.5,label ='f_true')\n",
    "plt.hist(bin_centers,  bins = binning_E[0:13], weights = f_est, alpha = 0.5,histtype = 'step',label='f_RF')\n",
    "plt.gca().set_xscale('log')\n",
    "plt.yscale('log')\n",
    "plt.xlabel('Energy/GeV')\n",
    "plt.legend(loc='best')\n",
    "plt.show()"
   ]
  },
  {
   "cell_type": "code",
   "execution_count": 9,
   "metadata": {},
   "outputs": [],
   "source": [
    "#running the full set\n",
    "df=pd.read_csv('sample.csv')\n",
    "X = df[['SplineMPEDirectHitsICE.n_dir_doms',\n",
    "        'VariousVariables.Cone_Angle',\n",
    "        'SplineMPECramerRaoParams.variance_theta',\n",
    "        'Borderness.Q_ratio_in_border',\n",
    "        'SplineMPETruncatedEnergy_SPICEMie_BINS_MuEres.value',\n",
    "        #'SplineMPETruncatesEnergy_SPICEMie_DOMS_Neutrino.energy', That feature is not in my MC\n",
    "        'SplineMPEDirectHitsICB.n_late_doms',\n",
    "        'Dustyness.n_doms_in_dust',\n",
    "        'LineFitGeoSplit1Params.n_hits',\n",
    "        'SplineMPEDirectHitsICC.dir_track_hit_distribution_smoothness',\n",
    "        'SPEFit2GeoSplit1BayesianFitParams.logl',\n",
    "        'SplineMPECharacteristicsIC.avg_dom_dist_q_tot_dom']]\n",
    "Y = df['MCPrimary.energy']"
   ]
  },
  {
   "cell_type": "code",
   "execution_count": 10,
   "metadata": {},
   "outputs": [
    {
     "data": {
      "text/plain": [
       "array([2.71180035e-01, 3.79863201e-01, 2.10853320e-01, 8.76662183e-02,\n",
       "       3.29302254e-02, 1.16365910e-02, 3.92835237e-03, 1.30920085e-03,\n",
       "       4.31151482e-04, 1.50715561e-04, 3.59917759e-05, 1.49965733e-05])"
      ]
     },
     "execution_count": 10,
     "metadata": {},
     "output_type": "execute_result"
    }
   ],
   "source": [
    "binning_E = np.logspace(np.log10(Y.min()-10),\n",
    "np.log10(Y.max()+100), 13)    # creating 12 bins for the energy \n",
    "#Binning overflow & underflow manually\n",
    "#overflow = 1e10\n",
    "#bins_over = np.append(binning_E,overflow)\n",
    "#binning_E = bins_over\n",
    "\n",
    "Y = np.digitize(Y, binning_E)  \n",
    "\n",
    "Y = Y - 1\n",
    "\n",
    "bin_1=[i for i in binning_E[:-1]]\n",
    "bin_2=[i for i in binning_E[1:]]\n",
    "bin_centers = np.mean([bin_1, bin_2], axis=0)\n",
    "n_test = int(len(df)/10)\n",
    "\n",
    "X_train = X.iloc[n_test:]#splitting the dataframe\n",
    "Y_train = Y[n_test:]\n",
    "\n",
    "X_test = X.iloc[:n_test]\n",
    "Y_test = Y[:n_test]\n",
    "\n",
    "f_true = util.fit_pdf(Y_test) \n",
    "f_true"
   ]
  },
  {
   "cell_type": "code",
   "execution_count": 11,
   "metadata": {},
   "outputs": [],
   "source": [
    "#Yeo-Johnson-Transformation\n",
    "X_box= power_transform(X, method='yeo-johnson')    \n",
    "X_btrain = X_box[n_test:]#splitting the dataframe\n",
    "X_btest = X_box[:n_test]\n"
   ]
  },
  {
   "cell_type": "code",
   "execution_count": null,
   "metadata": {},
   "outputs": [
    {
     "name": "stdout",
     "output_type": "stream",
     "text": [
      "0\n",
      "1\n"
     ]
    },
    {
     "data": {
      "image/png": "[encoded data removed]",
      "text/plain": [
       "<Figure size 432x288 with 1 Axes>"
      ]
     },
     "metadata": {
      "needs_background": "light"
     },
     "output_type": "display_data"
    }
   ],
   "source": [
    "#logistic AT with decaying stepsize(transformed data)\n",
    "def inspect_alpha(k, alpha, chi2s, f):\n",
    "    print(alpha)\n",
    "\n",
    "\n",
    "alpha_mul = stepsize.decay_mul(0.5)\n",
    "f_AT_mul,contr = dsea(X_btest, X_btrain, Y_train, LogisticAT(), K = 3, inspect = inspect_alpha, alpha = alpha_mul,return_contributions = True)\n",
    "plt.hist(bin_centers, bins = binning_E, weights = f_true, alpha = 0.5,label ='f_true')\n",
    "plt.hist(bin_centers, bins = binning_E, weights = f_AT_mul, alpha = 0.5,histtype = 'step',label='f_AT')\n",
    "plt.gca().set_xscale('log')\n",
    "plt.yscale('log')\n",
    "plt.xlabel('Energy/GeV')\n",
    "plt.legend(loc='best')\n",
    "plt.show()"
   ]
  },
  {
   "cell_type": "code",
   "execution_count": 13,
   "metadata": {},
   "outputs": [
    {
     "name": "stdout",
     "output_type": "stream",
     "text": [
      "Chi square distance between f_est and f_true: 0.23316544574310885\n"
     ]
    }
   ],
   "source": [
    "print('Chi square distance between f_est and f_true: {}'.format(util.chi2s(f_AT_mul, f_true)))"
   ]
  },
  {
   "cell_type": "code",
   "execution_count": null,
   "metadata": {},
   "outputs": [],
   "source": []
  }
 ],
 "metadata": {
  "kernelspec": {
   "display_name": "Python 3",
   "language": "python",
   "name": "python3"
  },
  "language_info": {
   "codemirror_mode": {
    "name": "ipython",
    "version": 3
   },
   "file_extension": ".py",
   "mimetype": "text/x-python",
   "name": "python",
   "nbconvert_exporter": "python",
   "pygments_lexer": "ipython3",
   "version": "3.8.3"
  }
 },
 "nbformat": 4,
 "nbformat_minor": 4
}
