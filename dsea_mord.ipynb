{
 "cells": [
  {
   "cell_type": "code",
   "execution_count": 39,
   "metadata": {},
   "outputs": [
    {
     "data": {
      "text/plain": [
       "array([0.14028, 0.27436, 0.23684, 0.15824, 0.09284, 0.0474 , 0.02588,\n",
       "       0.01234, 0.00644, 0.00264, 0.00142, 0.00066, 0.00066])"
      ]
     },
     "execution_count": 39,
     "metadata": {},
     "output_type": "execute_result"
    }
   ],
   "source": [
    "import pandas as pd\n",
    "import numpy as np\n",
    "from cherenkovdeconvolution import util\n",
    "from mord import LogisticAT\n",
    "from cherenkovdeconvolution import dsea\n",
    "from sklearn.linear_model import LogisticRegression\n",
    "from mord import LogisticSE\n",
    "from sklearn.tree import ExtraTreeClassifier\n",
    "from matplotlib import pyplot as plt\n",
    "from sklearn.preprocessing import power_transform\n",
    "import cherenkovdeconvolution.stepsize as stepsize\n",
    "\n",
    "#p.set_printoptions(threshold=np.inf)\n",
    "#df = pd.read_csv('sample.csv')\n",
    "df=pd.read_csv('sample.csv', nrows=500000)\n",
    "#print(df.head(8))\n",
    "#X = df[['SplineMPEDirectHitsD.dir_track_length',\n",
    "#'SPEFit2_HVFitParams.nmini'                       ,\n",
    "#'LineFitGeoSplit2.zenith',\n",
    "#   'SplineMPE.zenith'    ,\n",
    "#     'SplineMPE.azimuth' \n",
    "#       'SPEFit2GeoSplit1BayesianFitParams.nmini',\n",
    "#       'SPEFit2Bayesian.x',\n",
    "#       'VariousVariables.Cone_Angle',\n",
    "#       'SPEFit2TimeSplit1FitParams.logl',\n",
    "#       'weight_honda_h4a']]\n",
    "#X = df[['SPEFit2Bayesian.x',\n",
    "#        'SPEFit2BayesianFitParams.nmini',\n",
    "#        'SPEFit2_HVFitParams.nmini',\n",
    "#        'SplineMPE.zenith',\n",
    "#        'SplineMPECharacteristicsIC.avg_dom_dist_q_tot_dom',\n",
    "#        'SplineMPEDirectHitsD.dir_track_length',\n",
    "#        'SplineMPEDirectHitsICB.n_early_strings',\n",
    "#        'SplineMPEDirectHitsICB.n_late_doms',\n",
    "#        'SplineMPEDirectHitsICD.n_dir_strings',\n",
    "#        'SplineMPEDirectHitsICE.n_late_strings',\n",
    "#        'SplineMPETruncatedEnergy_SPICEMie_AllDOMS_MuEres.value',\n",
    "#        'weight_honda_h4a',\n",
    "#        'LineFitGeoSplit2.zenith',\n",
    "#        'VariousVariables.Cone_Angle',\n",
    "#        'SPEFit2GeoSplit1BayesianFitParams.nmini',\n",
    "#        'SPEFit2TimeSplit1FitParams.logl']]\n",
    "X = df[['SplineMPEDirectHitsICE.n_dir_doms',\n",
    "        'VariousVariables.Cone_Angle',\n",
    "        'SplineMPECramerRaoParams.variance_theta',\n",
    "        'Borderness.Q_ratio_in_border',\n",
    "        'SplineMPETruncatedEnergy_SPICEMie_BINS_MuEres.value',\n",
    "        #'SplineMPETruncatesEnergy_SPICEMie_DOMS_Neutrino.energy',\n",
    "        'SplineMPEDirectHitsICB.n_late_doms',\n",
    "        'Dustyness.n_doms_in_dust',\n",
    "        'LineFitGeoSplit1Params.n_hits',\n",
    "        'SplineMPEDirectHitsICC.dir_track_hit_distribution_smoothness',\n",
    "        'SPEFit2GeoSplit1BayesianFitParams.logl',\n",
    "        'SplineMPECharacteristicsIC.avg_dom_dist_q_tot_dom']]\n",
    "Y = df['MCPrimary.energy']\n",
    "#'Dustyness.n_doms_in_dust','BestTrackDirectHitsICC.n_early_strings',\n",
    "binning_E = np.logspace(np.log10(Y.min()-10),\n",
    "np.log10(1e6), 13)   # creating 12 bins for the energy \n",
    "\n",
    "\n",
    "\n",
    "#Binning overflow & underflow manually\n",
    "overflow = 1e8\n",
    "bins_over = np.append(binning_E,overflow)\n",
    "binning_E = bins_over\n",
    "\n",
    "Y = np.digitize(Y, binning_E)  \n",
    "\n",
    "Y = Y - 1\n",
    "bin_1=[i for i in binning_E[:-1]]\n",
    "bin_2=[i for i in binning_E[1:]]\n",
    "bin_centers = np.mean([bin_1, bin_2], axis=0)\n",
    "\n",
    "n_test = int(len(df)/10)\n",
    "\n",
    "X_train = X.iloc[n_test:]#splitting the dataframe\n",
    "Y_train = Y[n_test:]\n",
    "\n",
    "X_test = X.iloc[:n_test]\n",
    "Y_test = Y[:n_test]\n",
    "\n",
    "f_true = util.fit_pdf(Y_test) \n",
    "f_true\n"
   ]
  },
  {
   "cell_type": "code",
   "execution_count": 38,
   "metadata": {},
   "outputs": [
    {
     "data": {
      "text/plain": [
       "array([3.22372830e-03, 5.40486074e-02, 2.89053493e-01, 4.10241902e-01,\n",
       "       1.85492345e-01, 4.69863009e-02, 8.98352266e-03, 1.68675278e-03,\n",
       "       2.02501171e-04, 5.75669401e-05, 2.23612490e-05, 9.18274402e-07])"
      ]
     },
     "execution_count": 38,
     "metadata": {},
     "output_type": "execute_result"
    }
   ],
   "source": [
    "\n",
    "\n",
    "f_ord=dsea(X_test, X_train, Y_train,LogisticSE(alpha=1.), K = 3)\n",
    "f_ord"
   ]
  },
  {
   "cell_type": "code",
   "execution_count": 39,
   "metadata": {},
   "outputs": [
    {
     "name": "stderr",
     "output_type": "stream",
     "text": [
      "/home/jajaek/.local/anaconda3/lib/python3.8/site-packages/sklearn/linear_model/_logistic.py:762: ConvergenceWarning: lbfgs failed to converge (status=1):\n",
      "STOP: TOTAL NO. of f AND g EVALUATIONS EXCEEDS LIMIT.\n",
      "\n",
      "Increase the number of iterations (max_iter) or scale the data as shown in:\n",
      "    https://scikit-learn.org/stable/modules/preprocessing.html\n",
      "Please also refer to the documentation for alternative solver options:\n",
      "    https://scikit-learn.org/stable/modules/linear_model.html#logistic-regression\n",
      "  n_iter_i = _check_optimize_result(\n",
      "/home/jajaek/.local/anaconda3/lib/python3.8/site-packages/sklearn/linear_model/_logistic.py:762: ConvergenceWarning: lbfgs failed to converge (status=1):\n",
      "STOP: TOTAL NO. of f AND g EVALUATIONS EXCEEDS LIMIT.\n",
      "\n",
      "Increase the number of iterations (max_iter) or scale the data as shown in:\n",
      "    https://scikit-learn.org/stable/modules/preprocessing.html\n",
      "Please also refer to the documentation for alternative solver options:\n",
      "    https://scikit-learn.org/stable/modules/linear_model.html#logistic-regression\n",
      "  n_iter_i = _check_optimize_result(\n",
      "/home/jajaek/.local/anaconda3/lib/python3.8/site-packages/sklearn/linear_model/_logistic.py:762: ConvergenceWarning: lbfgs failed to converge (status=1):\n",
      "STOP: TOTAL NO. of f AND g EVALUATIONS EXCEEDS LIMIT.\n",
      "\n",
      "Increase the number of iterations (max_iter) or scale the data as shown in:\n",
      "    https://scikit-learn.org/stable/modules/preprocessing.html\n",
      "Please also refer to the documentation for alternative solver options:\n",
      "    https://scikit-learn.org/stable/modules/linear_model.html#logistic-regression\n",
      "  n_iter_i = _check_optimize_result(\n"
     ]
    }
   ],
   "source": [
    "\n",
    "\n",
    "f_multi = dsea(X_test, X_train, Y_train,LogisticRegression(multi_class='multinomial',max_iter=100000), K=3)#doesnt work with the default solver?"
   ]
  },
  {
   "cell_type": "code",
   "execution_count": 40,
   "metadata": {},
   "outputs": [
    {
     "data": {
      "text/plain": [
       "array([0.04861655, 0.0698211 , 0.08373528, 0.09095279, 0.09557769,\n",
       "       0.0964889 , 0.09670598, 0.09351049, 0.08799714, 0.07809829,\n",
       "       0.08581873, 0.07267705])"
      ]
     },
     "execution_count": 40,
     "metadata": {},
     "output_type": "execute_result"
    }
   ],
   "source": [
    "\n",
    "\n",
    "f_multi2 = dsea(X_test, X_train, Y_train,LogisticRegression(solver='saga',multi_class='multinomial',max_iter=10000), K=3)\n",
    "f_multi2"
   ]
  },
  {
   "cell_type": "code",
   "execution_count": 41,
   "metadata": {},
   "outputs": [],
   "source": [
    "\n",
    "\n",
    "f_extra = dsea(X_test, X_train, Y_train, ExtraTreeClassifier(), K=3) "
   ]
  },
  {
   "cell_type": "code",
   "execution_count": 43,
   "metadata": {},
   "outputs": [
    {
     "data": {
      "image/png": "[encoded data removed]",
      "text/plain": [
       "<Figure size 432x288 with 1 Axes>"
      ]
     },
     "metadata": {
      "needs_background": "light"
     },
     "output_type": "display_data"
    }
   ],
   "source": [
    "#plotting Multinomial Logistic Regression against f_true\n",
    "\n",
    "plt.hist(range(12), weights = f_true, alpha = 0.5,label ='f_true')\n",
    "plt.hist(range(12), weights = f_multi, alpha = 0.5,label='f_multi')\n",
    "plt.yscale('log')\n",
    "plt.show()"
   ]
  },
  {
   "cell_type": "code",
   "execution_count": 1,
   "metadata": {},
   "outputs": [
    {
     "ename": "NameError",
     "evalue": "name 'plt' is not defined",
     "output_type": "error",
     "traceback": [
      "\u001b[0;31m---------------------------------------------------------------------------\u001b[0m",
      "\u001b[0;31mNameError\u001b[0m                                 Traceback (most recent call last)",
      "\u001b[0;32m<ipython-input-1-ca0a1e0c2083>\u001b[0m in \u001b[0;36m<module>\u001b[0;34m\u001b[0m\n\u001b[1;32m      1\u001b[0m \u001b[0;31m#plotting Multinomial Logistic Regression with the saga solver against f_true\u001b[0m\u001b[0;34m\u001b[0m\u001b[0;34m\u001b[0m\u001b[0;34m\u001b[0m\u001b[0m\n\u001b[0;32m----> 2\u001b[0;31m \u001b[0mplt\u001b[0m\u001b[0;34m.\u001b[0m\u001b[0mhist\u001b[0m\u001b[0;34m(\u001b[0m\u001b[0mrange\u001b[0m\u001b[0;34m(\u001b[0m\u001b[0;36m12\u001b[0m\u001b[0;34m)\u001b[0m\u001b[0;34m,\u001b[0m \u001b[0mweights\u001b[0m \u001b[0;34m=\u001b[0m \u001b[0mf_true\u001b[0m\u001b[0;34m,\u001b[0m \u001b[0malpha\u001b[0m \u001b[0;34m=\u001b[0m \u001b[0;36m0.5\u001b[0m\u001b[0;34m,\u001b[0m\u001b[0mlabel\u001b[0m \u001b[0;34m=\u001b[0m\u001b[0;34m'f_true'\u001b[0m\u001b[0;34m)\u001b[0m\u001b[0;34m\u001b[0m\u001b[0;34m\u001b[0m\u001b[0m\n\u001b[0m\u001b[1;32m      3\u001b[0m \u001b[0mplt\u001b[0m\u001b[0;34m.\u001b[0m\u001b[0mhist\u001b[0m\u001b[0;34m(\u001b[0m\u001b[0mrange\u001b[0m\u001b[0;34m(\u001b[0m\u001b[0;36m12\u001b[0m\u001b[0;34m)\u001b[0m\u001b[0;34m,\u001b[0m \u001b[0mweights\u001b[0m \u001b[0;34m=\u001b[0m \u001b[0mf_multi2\u001b[0m\u001b[0;34m,\u001b[0m \u001b[0malpha\u001b[0m \u001b[0;34m=\u001b[0m \u001b[0;36m0.5\u001b[0m\u001b[0;34m,\u001b[0m\u001b[0mlabel\u001b[0m\u001b[0;34m=\u001b[0m\u001b[0;34m'f_saga'\u001b[0m\u001b[0;34m)\u001b[0m\u001b[0;34m\u001b[0m\u001b[0;34m\u001b[0m\u001b[0m\n\u001b[1;32m      4\u001b[0m \u001b[0mplt\u001b[0m\u001b[0;34m.\u001b[0m\u001b[0myscale\u001b[0m\u001b[0;34m(\u001b[0m\u001b[0;34m'log'\u001b[0m\u001b[0;34m)\u001b[0m\u001b[0;34m\u001b[0m\u001b[0;34m\u001b[0m\u001b[0m\n\u001b[1;32m      5\u001b[0m \u001b[0mplt\u001b[0m\u001b[0;34m.\u001b[0m\u001b[0mshow\u001b[0m\u001b[0;34m(\u001b[0m\u001b[0;34m)\u001b[0m\u001b[0;34m\u001b[0m\u001b[0;34m\u001b[0m\u001b[0m\n",
      "\u001b[0;31mNameError\u001b[0m: name 'plt' is not defined"
     ]
    }
   ],
   "source": [
    "#plotting Multinomial Logistic Regression with the saga solver against f_true\n",
    "plt.hist(range(12), weights = f_true, alpha = 0.5,label ='f_true')\n",
    "plt.hist(range(12), weights = f_multi2, alpha = 0.5,label='f_saga')\n",
    "plt.yscale('log')\n",
    "plt.show()"
   ]
  },
  {
   "cell_type": "code",
   "execution_count": 45,
   "metadata": {},
   "outputs": [
    {
     "data": {
      "image/png": "[encoded data removed]",
      "text/plain": [
       "<Figure size 432x288 with 1 Axes>"
      ]
     },
     "metadata": {
      "needs_background": "light"
     },
     "output_type": "display_data"
    }
   ],
   "source": [
    "#plotting LogisticSE against f_true\n",
    "plt.hist(range(12), weights = f_true, alpha = 0.5,label ='f_true')\n",
    "plt.hist(range(12), weights = f_ord, alpha = 0.5,label='f_ord')\n",
    "plt.yscale('log')\n",
    "plt.show()"
   ]
  },
  {
   "cell_type": "code",
   "execution_count": 46,
   "metadata": {},
   "outputs": [
    {
     "data": {
      "image/png": "[encoded data removed]",
      "text/plain": [
       "<Figure size 432x288 with 1 Axes>"
      ]
     },
     "metadata": {
      "needs_background": "light"
     },
     "output_type": "display_data"
    }
   ],
   "source": [
    "#plotting Extra Tree Classifier against f_true\n",
    "plt.hist(range(12), weights = f_true, alpha = 0.5,label ='f_true')\n",
    "plt.hist(range(12), weights = f_extra, alpha = 0.5,label='f_extra')\n",
    "plt.yscale('log')\n",
    "plt.show()"
   ]
  },
  {
   "cell_type": "code",
   "execution_count": 41,
   "metadata": {},
   "outputs": [],
   "source": [
    "#run dsea(LogisticSE) with boxcox transformed data\n",
    "#from scipy import stats\n",
    "#from scipy.special import boxcox1p\n",
    "\n",
    "\n",
    "#transforming training and test data, while not transforming the target\n",
    "#X_box[0]=stats.boxcox(df['SPEFit2Bayesian.x']) boxcox needs strictly positive data maybe yeo-johnson transform ist better suited\n",
    "X_box= power_transform(X, method='yeo-johnson')    \n",
    "X_btrain = X_box[n_test:]#splitting the dataframe\n",
    "X_btest = X_box[:n_test]\n",
    "\n"
   ]
  },
  {
   "cell_type": "code",
   "execution_count": 9,
   "metadata": {},
   "outputs": [
    {
     "data": {
      "image/png": "[encoded data removed]",
      "text/plain": [
       "<Figure size 432x288 with 1 Axes>"
      ]
     },
     "metadata": {
      "needs_background": "light"
     },
     "output_type": "display_data"
    }
   ],
   "source": [
    "f_ord=([3.22372830e-03, 5.40486074e-02, 2.89053493e-01, 4.10241902e-01,\n",
    "       1.85492345e-01, 4.69863009e-02, 8.98352266e-03, 1.68675278e-03,\n",
    "       2.02501171e-04, 5.75669401e-05, 2.23612490e-05, 9.18274402e-07])\n",
    "\n",
    "f_bord=dsea(X_btest, X_btrain, Y_train,LogisticSE(alpha=1.), K = 3)\n",
    "\n",
    "plt.hist(range(12), weights = f_true, alpha = 0.5,label ='f_true')\n",
    "plt.hist(range(12), weights = f_ord, alpha = 0.5,label='f_ord')\n",
    "plt.hist(range(12), weights = f_bord, alpha = 0.5,label='f_bord')\n",
    "plt.yscale('log')\n",
    "plt.legend(loc='best')\n",
    "plt.show()"
   ]
  },
  {
   "cell_type": "code",
   "execution_count": null,
   "metadata": {},
   "outputs": [],
   "source": [
    "#from mord import LogisticAT\n",
    "f_AT=dsea(X_btest, X_btrain, Y_train,LogisticAT(alpha=1.), K = 3)"
   ]
  },
  {
   "cell_type": "code",
   "execution_count": null,
   "metadata": {},
   "outputs": [
    {
     "data": {
      "image/png": "[encoded data removed]",
      "text/plain": [
       "<Figure size 432x288 with 1 Axes>"
      ]
     },
     "metadata": {
      "needs_background": "light"
     },
     "output_type": "display_data"
    }
   ],
   "source": [
    "plt.hist(range(12), weights = f_true, alpha = 0.5,label ='f_true')\n",
    "plt.hist(range(12), weights = f_AT, alpha = 0.5,label='f_AT')\n",
    "plt.hist(range(12), weights = f_bord, alpha = 0.5,label='f_bord')\n",
    "plt.yscale('log')\n",
    "plt.legend(loc='best')\n",
    "plt.show()"
   ]
  },
  {
   "cell_type": "code",
   "execution_count": 42,
   "metadata": {},
   "outputs": [
    {
     "name": "stdout",
     "output_type": "stream",
     "text": [
      "0\n",
      "1\n",
      "2\n",
      "3\n"
     ]
    }
   ],
   "source": [
    "#logistic AT with decaying stepsize(unstransformed data)\n",
    "def inspect_alpha(k, alpha, chi2s, f): # you can define custom inspection methods to investigate DSEA\n",
    "    print(alpha)\n",
    "\n",
    "# There are two decay rates, the first of which is comparably slow\n",
    "alpha_mul = stepsize.decay_mul(0.5)\n",
    "f_AT_mul = dsea(X_test, X_train, Y_train, LogisticAT(alpha=1.), K = 3, inspect = inspect_alpha, alpha = alpha_mul)\n"
   ]
  },
  {
   "cell_type": "code",
   "execution_count": 43,
   "metadata": {},
   "outputs": [
    {
     "data": {
      "image/png": "[encoded data removed]",
      "text/plain": [
       "<Figure size 432x288 with 1 Axes>"
      ]
     },
     "metadata": {
      "needs_background": "light"
     },
     "output_type": "display_data"
    }
   ],
   "source": [
    "plt.hist(bin_centers, bins = binning_E, weights = f_true, alpha = 0.5)\n",
    "plt.hist(bin_centers, bins = binning_E, weights = f_AT_mul, alpha = 0.5)\n",
    "plt.gca().set_xscale('log')\n",
    "plt.yscale('log')\n",
    "plt.show()"
   ]
  },
  {
   "cell_type": "code",
   "execution_count": 44,
   "metadata": {},
   "outputs": [
    {
     "name": "stdout",
     "output_type": "stream",
     "text": [
      "0\n",
      "1\n",
      "2\n",
      "3\n"
     ]
    },
    {
     "data": {
      "image/png": "[encoded data removed]",
      "text/plain": [
       "<Figure size 432x288 with 1 Axes>"
      ]
     },
     "metadata": {
      "needs_background": "light"
     },
     "output_type": "display_data"
    }
   ],
   "source": [
    "#logistic AT with decaying stepsize(transformed data)\n",
    "def inspect_alpha(k, alpha, chi2s, f):\n",
    "    print(alpha)\n",
    "\n",
    "\n",
    "alpha_mul = stepsize.decay_mul(0.5)\n",
    "f_AT_mul,contr = dsea(X_btest, X_btrain, Y_train, LogisticAT(), K = 3, inspect = inspect_alpha, alpha = alpha_mul,return_contributions = True)\n",
    "plt.hist(bin_centers, bins = binning_E, weights = f_true, alpha = 0.5)\n",
    "plt.hist(bin_centers, bins = binning_E, weights = f_AT_mul, alpha = 0.5)\n",
    "plt.gca().set_xscale('log')\n",
    "plt.yscale('log')\n",
    "plt.show()"
   ]
  },
  {
   "cell_type": "code",
   "execution_count": 14,
   "metadata": {},
   "outputs": [
    {
     "data": {
      "text/plain": [
       "0"
      ]
     },
     "execution_count": 14,
     "metadata": {},
     "output_type": "execute_result"
    }
   ],
   "source": [
    "def rate_contr(contr):\n",
    "    rating=0\n",
    "    indices=[]\n",
    "    contr_1st=contr.argsort()[:,-1]#returns indices of the highest value\n",
    "    contr_2nd=contr.argsort()[:,-2]#return indices of the 2nd highest value\n",
    "    \n",
    "    contr_gap=contr_1st-contr_2nd#array of distances between the highest and 2nd highest bin\n",
    "    for i in range(len(contr)):\n",
    "        if contr_gap[i]>2:\n",
    "            rating=rating+1\n",
    "            indices.append(i)\n",
    "        elif contr_gap[i]<(-2):\n",
    "            rating=rating+1\n",
    "            indices.append(i)\n",
    "            \n",
    "    return rating, indices     \n",
    "\n",
    "x,y=rate_contr(contr)\n",
    "x"
   ]
  },
  {
   "cell_type": "code",
   "execution_count": 17,
   "metadata": {},
   "outputs": [
    {
     "data": {
      "text/plain": [
       "(array([5.34220490e-01, 2.65766030e-01, 1.26314983e-01, 4.76581686e-02,\n",
       "        1.64572999e-02, 5.72933861e-03, 2.16835101e-03, 9.20888521e-04,\n",
       "        4.34162528e-04, 3.30287367e-04]),\n",
       " array([ 0. ,  1.1,  2.2,  3.3,  4.4,  5.5,  6.6,  7.7,  8.8,  9.9, 11. ]),\n",
       " [<matplotlib.patches.Polygon at 0x7f7cd7257fa0>])"
      ]
     },
     "execution_count": 17,
     "metadata": {},
     "output_type": "execute_result"
    },
    {
     "data": {
      "image/png": "[encoded data removed]",
      "text/plain": [
       "<Figure size 432x288 with 1 Axes>"
      ]
     },
     "metadata": {
      "needs_background": "light"
     },
     "output_type": "display_data"
    }
   ],
   "source": [
    "plt.hist(range(12), weights = contr[3], alpha = 0.5, histtype = 'step')"
   ]
  },
  {
   "cell_type": "code",
   "execution_count": 18,
   "metadata": {},
   "outputs": [
    {
     "name": "stdout",
     "output_type": "stream",
     "text": [
      "0\n",
      "1\n",
      "2\n",
      "3\n",
      "4\n",
      "5\n"
     ]
    },
    {
     "data": {
      "image/png": "[encoded data removed]",
      "text/plain": [
       "<Figure size 432x288 with 1 Axes>"
      ]
     },
     "metadata": {
      "needs_background": "light"
     },
     "output_type": "display_data"
    }
   ],
   "source": [
    "#logistic AT with exponential decaying stepsize(transformed data)\n",
    "alpha_exp = stepsize.decay_exp(0.5, 2.0)\n",
    "f_AT_exp = dsea(X_test, X_train, Y_train, LogisticAT(), K = 5, inspect = inspect_alpha,  alpha = alpha_exp)\n",
    "plt.hist(range(12), weights = f_true, alpha = 0.5)\n",
    "plt.hist(range(12), weights = f_AT_exp, alpha = 0.5)\n",
    "plt.yscale('log')\n",
    "plt.show()"
   ]
  },
  {
   "cell_type": "code",
   "execution_count": 26,
   "metadata": {},
   "outputs": [
    {
     "data": {
      "text/plain": [
       "array([6, 3, 4, 1, 1, 1, 5, 1, 1, 1, 1, 1, 1, 8, 7, 2, 1])"
      ]
     },
     "execution_count": 26,
     "metadata": {},
     "output_type": "execute_result"
    }
   ],
   "source": [
    "#feature selection on logisticAT\n",
    "from sklearn.feature_selection import RFE\n",
    "estimator= LogisticAT()\n",
    "selector = RFE(estimator, n_features_to_select=10, step=1)\n",
    "selector.fit(X_box,Y)\n",
    "selector.ranking_"
   ]
  },
  {
   "cell_type": "code",
   "execution_count": 27,
   "metadata": {},
   "outputs": [],
   "source": [
    "#just keeping the best ranked features\n",
    "X_RFE=selector.transform(X_box)\n",
    "X_rfetrain = X_RFE[n_test:]#splitting the dataframe\n",
    "X_rfetest = X_RFE[:n_test]\n"
   ]
  },
  {
   "cell_type": "code",
   "execution_count": 29,
   "metadata": {},
   "outputs": [
    {
     "name": "stdout",
     "output_type": "stream",
     "text": [
      "0\n",
      "1\n",
      "2\n",
      "3\n",
      "4\n",
      "5\n"
     ]
    },
    {
     "data": {
      "image/png": "[encoded data removed]",
      "text/plain": [
       "<Figure size 432x288 with 1 Axes>"
      ]
     },
     "metadata": {
      "needs_background": "light"
     },
     "output_type": "display_data"
    }
   ],
   "source": [
    "#logisticAT on the best features with decaying stepsize\n",
    "def inspect_alpha(k, alpha, chi2s, f):\n",
    "    print(alpha)\n",
    "\n",
    "\n",
    "alpha_mul = stepsize.decay_mul(0.5)\n",
    "f_AT_mul = dsea(X_rfetest, X_rfetrain, Y_train, LogisticAT(), K = 5, inspect = inspect_alpha, alpha = alpha_mul)\n",
    "plt.hist(range(12), weights = f_true, alpha = 0.5)\n",
    "plt.hist(range(12), weights = f_AT_mul, alpha = 0.5)\n",
    "plt.yscale('log')\n",
    "plt.show()"
   ]
  }
 ],
 "metadata": {
  "kernelspec": {
   "display_name": "Python 3",
   "language": "python",
   "name": "python3"
  },
  "language_info": {
   "codemirror_mode": {
    "name": "ipython",
    "version": 3
   },
   "file_extension": ".py",
   "mimetype": "text/x-python",
   "name": "python",
   "nbconvert_exporter": "python",
   "pygments_lexer": "ipython3",
   "version": "3.8.3"
  }
 },
 "nbformat": 4,
 "nbformat_minor": 4
}
