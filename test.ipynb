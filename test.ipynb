{
 "cells": [
  {
   "cell_type": "code",
   "execution_count": 25,
   "metadata": {},
   "outputs": [
    {
     "data": {
      "text/plain": [
       "array([ 0,  1,  2,  3,  4,  5,  6,  7,  8,  9, 10, 11])"
      ]
     },
     "execution_count": 25,
     "metadata": {},
     "output_type": "execute_result"
    }
   ],
   "source": [
    "import pandas as pd\n",
    "import numpy as np\n",
    "from cherenkovdeconvolution import util\n",
    "\n",
    "#p.set_printoptions(threshold=np.inf)\n",
    "#df = pd.read_csv('sample.csv')\n",
    "df=pd.read_csv('sample.csv', nrows=1000000)\n",
    "#print(df.head(8))\n",
    "#X = df[['SplineMPEDirectHitsD.dir_track_length',\n",
    "#'SPEFit2_HVFitParams.nmini'                       ,\n",
    "#'LineFitGeoSplit2.zenith',\n",
    "#   'SplineMPE.zenith'    ,\n",
    "#     'SplineMPE.azimuth' \n",
    "#       'SPEFit2GeoSplit1BayesianFitParams.nmini',\n",
    "#       'SPEFit2Bayesian.x',\n",
    "#       'VariousVariables.Cone_Angle',\n",
    "#       'SPEFit2TimeSplit1FitParams.logl',\n",
    "#       'weight_honda_h4a']]\n",
    "X = df[['SPEFit2Bayesian.x',\n",
    "        'SPEFit2BayesianFitParams.nmini',\n",
    "        'SPEFit2_HVFitParams.nmini',\n",
    "        'SplineMPE.zenith',\n",
    "        'SplineMPECharacteristicsIC.avg_dom_dist_q_tot_dom',\n",
    "        'SplineMPEDirectHitsD.dir_track_length',\n",
    "        'SplineMPEDirectHitsICB.n_early_strings',\n",
    "        'SplineMPEDirectHitsICB.n_late_doms',\n",
    "        'SplineMPEDirectHitsICD.n_dir_strings',\n",
    "        'SplineMPEDirectHitsICE.n_late_strings',\n",
    "        'SplineMPETruncatedEnergy_SPICEMie_AllDOMS_MuEres.value']]\n",
    "\n",
    "Y = df['MCPrimary.energy']\n",
    "#'Dustyness.n_doms_in_dust','BestTrackDirectHitsICC.n_early_strings',\n",
    "binning_E = np.logspace(np.log10(Y.min()-10),\n",
    "np.log10(Y.max()+100), 13)    # creating 12 bins for the energy \n",
    "\n",
    "\n",
    "\n",
    "#Binning overflow & underflow manually\n",
    "overflow = 1e10\n",
    "bins_over = np.append(binning_E,overflow)\n",
    "binning_E = bins_over\n",
    "\n",
    "Y = np.digitize(Y, binning_E)  \n",
    "\n",
    "Y = Y - 1\n",
    "\n",
    "n_test = int(len(df)/10)\n",
    "\n",
    "X_train = X.iloc[n_test:]#splitting the dataframe\n",
    "Y_train = Y[n_test:]\n",
    "\n",
    "X_test = X.iloc[:n_test]\n",
    "Y_test = Y[:n_test]\n",
    "\n",
    "f_true = util.fit_pdf(Y_test) \n",
    "f_true\n",
    "\n",
    "np.unique(Y)"
   ]
  },
  {
   "cell_type": "code",
   "execution_count": 20,
   "metadata": {},
   "outputs": [
    {
     "name": "stdout",
     "output_type": "stream",
     "text": [
      "Chi square distance between f_est and f_true: 0.24776787086877494\n"
     ]
    }
   ],
   "source": [
    "from cherenkovdeconvolution import dsea\n",
    "from sklearn.naive_bayes import GaussianNB\n",
    "#from sklearn.naive_bayes import BernoulliNB #worse than gaussian\n",
    "#from sklearn.tree import DecisionTreeClassifier\n",
    "#from sklearn.tree import ExtraTreeClassifier # works extremly good on the data\n",
    "#from sklearn.ensemble import RandomForestClassifier# super slow; about the same results as ExtraTree\n",
    "\n",
    "f_est = dsea(X_test, X_train, Y_train, GaussianNB(), K=3)\n",
    "print('Chi square distance between f_est and f_true: {}'.format(util.chi2s(f_est, f_true)))"
   ]
  },
  {
   "cell_type": "code",
   "execution_count": 21,
   "metadata": {},
   "outputs": [
    {
     "data": {
      "image/png": "[encoded data removed]",
      "text/plain": [
       "<Figure size 432x288 with 1 Axes>"
      ]
     },
     "metadata": {
      "needs_background": "light"
     },
     "output_type": "display_data"
    }
   ],
   "source": [
    "from matplotlib import pyplot as plt\n",
    "plt.hist(range(12), weights = f_true, alpha = 0.5)\n",
    "plt.hist(range(12), weights = f_est, alpha = 0.5)\n",
    "plt.yscale('log')\n",
    "plt.show()"
   ]
  },
  {
   "cell_type": "code",
   "execution_count": 4,
   "metadata": {},
   "outputs": [
    {
     "data": {
      "image/png": "[encoded data removed]",
      "text/plain": [
       "<Figure size 432x288 with 1 Axes>"
      ]
     },
     "metadata": {
      "needs_background": "light"
     },
     "output_type": "display_data"
    }
   ],
   "source": [
    "from cherenkovdeconvolution import dsea\n",
    "from sklearn.tree import ExtraTreeClassifier\n",
    "\n",
    "f_est2 = dsea(X_test, X_train, Y_train, ExtraTreeClassifier(), K=3) \n",
    "plt.hist(range(12), weights = f_true, alpha = 0.5)\n",
    "plt.hist(range(12), weights = f_est2, alpha = 0.5)\n",
    "plt.yscale('log')\n",
    "plt.show()"
   ]
  },
  {
   "cell_type": "code",
   "execution_count": 6,
   "metadata": {},
   "outputs": [
    {
     "data": {
      "image/png": "[encoded data removed]",
      "text/plain": [
       "<Figure size 432x288 with 1 Axes>"
      ]
     },
     "metadata": {
      "needs_background": "light"
     },
     "output_type": "display_data"
    }
   ],
   "source": [
    "from cherenkovdeconvolution import dsea\n",
    "from sklearn.ensemble import RandomForestClassifier\n",
    "f_est3 = dsea(X_test, X_train, Y_train,RandomForestClassifier(), K=3) \n",
    "plt.hist(range(12), weights = f_true, alpha = 0.5)\n",
    "plt.hist(range(12), weights = f_est3, alpha = 0.5)\n",
    "plt.yscale('log')\n",
    "plt.show()"
   ]
  },
  {
   "cell_type": "code",
   "execution_count": 7,
   "metadata": {},
   "outputs": [
    {
     "data": {
      "image/png": "[encoded data removed]",
      "text/plain": [
       "<Figure size 432x288 with 1 Axes>"
      ]
     },
     "metadata": {
      "needs_background": "light"
     },
     "output_type": "display_data"
    }
   ],
   "source": [
    "from cherenkovdeconvolution import dsea\n",
    "from sklearn.tree import DecisionTreeClassifier\n",
    "f_est4 = dsea(X_test, X_train, Y_train,DecisionTreeClassifier(), K=3) \n",
    "plt.hist(range(12), weights = f_true, alpha = 0.5)\n",
    "plt.hist(range(12), weights = f_est4, alpha = 0.5)\n",
    "plt.yscale('log')\n",
    "plt.show()"
   ]
  },
  {
   "cell_type": "code",
   "execution_count": 10,
   "metadata": {},
   "outputs": [
    {
     "name": "stdout",
     "output_type": "stream",
     "text": [
      "0\n",
      "1\n",
      "2\n",
      "3\n"
     ]
    },
    {
     "data": {
      "image/png": "[encoded data removed]",
      "text/plain": [
       "<Figure size 432x288 with 1 Axes>"
      ]
     },
     "metadata": {
      "needs_background": "light"
     },
     "output_type": "display_data"
    }
   ],
   "source": [
    "import cherenkovdeconvolution.stepsize as stepsize\n",
    "\n",
    "# first of all, we set up an inspection function, which prints the step size of each iteration\n",
    "def inspect_alpha(k, alpha, chi2s, f): # you can define custom inspection methods to investigate DSEA\n",
    "    print(alpha)\n",
    "\n",
    "# There are two decay rates, the first of which is comparably slow\n",
    "alpha_mul = stepsize.decay_mul(0.5)\n",
    "f_est_mul = dsea(X_test, X_train, Y_train, GaussianNB(), K = 3, inspect = inspect_alpha, alpha = alpha_mul)\n",
    "plt.hist(range(12), weights = f_true, alpha = 0.5)\n",
    "plt.hist(range(12), weights = f_est_mul, alpha = 0.5)\n",
    "plt.yscale('log')\n",
    "plt.show()"
   ]
  },
  {
   "cell_type": "code",
   "execution_count": 13,
   "metadata": {},
   "outputs": [
    {
     "name": "stdout",
     "output_type": "stream",
     "text": [
      "0\n",
      "1\n",
      "2\n"
     ]
    },
    {
     "data": {
      "image/png": "[encoded data removed]",
      "text/plain": [
       "<Figure size 432x288 with 1 Axes>"
      ]
     },
     "metadata": {
      "needs_background": "light"
     },
     "output_type": "display_data"
    }
   ],
   "source": [
    "alpha_exp = stepsize.decay_exp(0.5, 2.0) # start with step size 2\n",
    "f_est_exp = dsea(X_test, X_train, Y_train, GaussianNB(), K = 3, inspect = inspect_alpha,  alpha = alpha_exp)\n",
    "plt.hist(range(12), weights = f_true, alpha = 0.5)\n",
    "plt.hist(range(12), weights = f_est_exp, alpha = 0.5)\n",
    "plt.yscale('log')\n",
    "plt.show()"
   ]
  },
  {
   "cell_type": "code",
   "execution_count": 27,
   "metadata": {},
   "outputs": [
    {
     "name": "stdout",
     "output_type": "stream",
     "text": [
      "Iteration 0: alpha = nan\n",
      "Iteration 1: alpha = 0.9988924213528076\n",
      "Iteration 2: alpha = 5.663671779334335e-14\n",
      "Iteration 3: alpha = 4.9999644209182255e-14\n",
      "Chi square distance between f_est and f_true: 0.22142138938142164\n"
     ]
    },
    {
     "data": {
      "text/plain": [
       "array([0.41099392, 0.22127159, 0.16646245, 0.0853378 , 0.04667541,\n",
       "       0.03840207, 0.00767099, 0.00349916, 0.00720699, 0.00459314,\n",
       "       0.00350665, 0.00437982])"
      ]
     },
     "execution_count": 27,
     "metadata": {},
     "output_type": "execute_result"
    }
   ],
   "source": [
    "from cherenkovdeconvolution.discretize import TreeDiscretizer\n",
    "discretizer = TreeDiscretizer(X_train, Y_train, 4)\n",
    "x_data  = discretizer.discretize(X_test)\n",
    "x_train = discretizer.discretize(X_train)\n",
    "alpha = stepsize.alpha_adaptive_run(x_data, x_train, Y_train, tau = 0, bins_y = [0,  1,  2,  3,  4,  5,  6,  7,  8,  9, 10, 11])\n",
    "\n",
    "# inspect the chosen alpha values with a callback function\n",
    "def inspect_alpha(f, k, a, chi2s): # this signature is mandatory. Here, f is the latest estimate.\n",
    "    print('Iteration {}: alpha = {}'.format(k, a)) # print iteration number and alpha value\n",
    "# deconvolve\n",
    "f_est = dsea(X_test, X_train, Y_train, GaussianNB(), K = 3, alpha = alpha,inspect = inspect_alpha)\n",
    "print('Chi square distance between f_est and f_true: {}'.format(util.chi2s(f_est, f_true)))\n",
    "f_est"
   ]
  },
  {
   "cell_type": "code",
   "execution_count": null,
   "metadata": {},
   "outputs": [],
   "source": []
  }
 ],
 "metadata": {
  "kernelspec": {
   "display_name": "Python 3",
   "language": "python",
   "name": "python3"
  },
  "language_info": {
   "codemirror_mode": {
    "name": "ipython",
    "version": 3
   },
   "file_extension": ".py",
   "mimetype": "text/x-python",
   "name": "python",
   "nbconvert_exporter": "python",
   "pygments_lexer": "ipython3",
   "version": "3.8.3"
  }
 },
 "nbformat": 4,
 "nbformat_minor": 4
}
