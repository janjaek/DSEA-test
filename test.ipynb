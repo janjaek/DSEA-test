{
 "cells": [
  {
   "cell_type": "code",
   "execution_count": 35,
   "metadata": {},
   "outputs": [
    {
     "data": {
      "text/plain": [
       "array([2.5758e-01, 3.6933e-01, 2.1760e-01, 9.6360e-02, 3.7990e-02,\n",
       "       1.3770e-02, 4.6200e-03, 1.8000e-03, 6.3000e-04, 2.4000e-04,\n",
       "       5.0000e-05, 3.0000e-05])"
      ]
     },
     "execution_count": 35,
     "metadata": {},
     "output_type": "execute_result"
    }
   ],
   "source": [
    "import pandas as pd\n",
    "import numpy as np\n",
    "from cherenkovdeconvolution import util\n",
    "\n",
    "#p.set_printoptions(threshold=np.inf)\n",
    "#df = pd.read_csv('sample.csv')\n",
    "df=pd.read_csv('sample.csv', nrows=1000000)\n",
    "#print(df.head(8))\n",
    "#X = df[['SplineMPEDirectHitsD.dir_track_length',\n",
    "#'SPEFit2_HVFitParams.nmini'                       ,\n",
    "#'LineFitGeoSplit2.zenith',\n",
    "#   'SplineMPE.zenith'    ,\n",
    "#     'SplineMPE.azimuth' \n",
    "#       'SPEFit2GeoSplit1BayesianFitParams.nmini',\n",
    "#       'SPEFit2Bayesian.x',\n",
    "#       'VariousVariables.Cone_Angle',\n",
    "#       'SPEFit2TimeSplit1FitParams.logl',\n",
    "#       'weight_honda_h4a']]\n",
    "X = df[['SPEFit2Bayesian.x',\n",
    "        'SPEFit2BayesianFitParams.nmini',\n",
    "        'SPEFit2_HVFitParams.nmini',\n",
    "        'SplineMPE.zenith',\n",
    "        'SplineMPECharacteristicsIC.avg_dom_dist_q_tot_dom',\n",
    "        'SplineMPEDirectHitsD.dir_track_length',\n",
    "        'SplineMPEDirectHitsICB.n_early_strings',\n",
    "        'SplineMPEDirectHitsICB.n_late_doms',\n",
    "        'SplineMPEDirectHitsICD.n_dir_strings',\n",
    "        'SplineMPEDirectHitsICE.n_late_strings',\n",
    "        'SplineMPETruncatedEnergy_SPICEMie_AllDOMS_MuEres.value']]\n",
    "\n",
    "Y = df['MCPrimary.energy']\n",
    "#'Dustyness.n_doms_in_dust','BestTrackDirectHitsICC.n_early_strings',\n",
    "binning_E = np.logspace(np.log10(Y.min()-10),\n",
    "np.log10(Y.max()+100), 13)    # creating 12 bins for the energy \n",
    "\n",
    "\n",
    "\n",
    "#Binning overflow & underflow manually\n",
    "overflow = 1e10\n",
    "bins_over = np.append(binning_E,overflow)\n",
    "binning_E = bins_over\n",
    "\n",
    "Y = np.digitize(Y, binning_E)  \n",
    "\n",
    "Y = Y - 1\n",
    "\n",
    "bin_1=[i for i in binning_E[:-1]]\n",
    "bin_2=[i for i in binning_E[1:]]\n",
    "bin_centers = np.mean([bin_1, bin_2], axis=0)\n",
    "n_test = int(len(df)/10)\n",
    "\n",
    "X_train = X.iloc[n_test:]#splitting the dataframe\n",
    "Y_train = Y[n_test:]\n",
    "\n",
    "X_test = X.iloc[:n_test]\n",
    "Y_test = Y[:n_test]\n",
    "\n",
    "f_true = util.fit_pdf(Y_test) \n",
    "f_true\n",
    "\n"
   ]
  },
  {
   "cell_type": "code",
   "execution_count": 36,
   "metadata": {},
   "outputs": [
    {
     "name": "stdout",
     "output_type": "stream",
     "text": [
      "Chi square distance between f_est and f_true: 0.24776787086877494\n"
     ]
    }
   ],
   "source": [
    "from cherenkovdeconvolution import dsea\n",
    "from sklearn.naive_bayes import GaussianNB\n",
    "#from sklearn.naive_bayes import BernoulliNB #worse than gaussian\n",
    "#from sklearn.tree import DecisionTreeClassifier\n",
    "#from sklearn.tree import ExtraTreeClassifier # works extremly good on the data\n",
    "#from sklearn.ensemble import RandomForestClassifier# super slow; about the same results as ExtraTree\n",
    "\n",
    "f_est,contr = dsea(X_test, X_train, Y_train, GaussianNB(), K=3,return_contributions = True)\n",
    "print('Chi square distance between f_est and f_true: {}'.format(util.chi2s(f_est, f_true)))"
   ]
  },
  {
   "cell_type": "code",
   "execution_count": 37,
   "metadata": {},
   "outputs": [
    {
     "data": {
      "text/plain": [
       "(array([0.00059952, 0.02024503, 0.5001085 , 0.40318772, 0.05861266,\n",
       "        0.01195331, 0.00177358, 0.00220296, 0.00054636, 0.00077037]),\n",
       " array([ 0. ,  1.1,  2.2,  3.3,  4.4,  5.5,  6.6,  7.7,  8.8,  9.9, 11. ]),\n",
       " [<matplotlib.patches.Polygon at 0x7ff095689730>])"
      ]
     },
     "execution_count": 37,
     "metadata": {},
     "output_type": "execute_result"
    },
    {
     "data": {
      "image/png": "[encoded data removed]",
      "text/plain": [
       "<Figure size 432x288 with 1 Axes>"
      ]
     },
     "metadata": {
      "needs_background": "light"
     },
     "output_type": "display_data"
    }
   ],
   "source": [
    "plt.hist(range(12), weights = contr[0], alpha = 0.5, histtype = 'step')"
   ]
  },
  {
   "cell_type": "code",
   "execution_count": 29,
   "metadata": {},
   "outputs": [
    {
     "name": "stdout",
     "output_type": "stream",
     "text": [
      "[1.92015676e-14 5.99524650e-04 2.02450257e-02 5.00108499e-01\n",
      " 4.03187720e-01 5.86126603e-02 1.19533086e-02 1.77357608e-03\n",
      " 2.20296305e-03 5.46356113e-04 2.50158245e-04 5.20207776e-04]\n",
      "[9.78176001e-01 1.76205912e-02 3.82933275e-03 2.98738005e-04\n",
      " 4.24972812e-05 3.22462192e-05 1.85763972e-07 1.82753865e-08\n",
      " 2.44217696e-07 6.07331079e-08 1.21100177e-08 7.21150682e-08]\n",
      "[5.81103465e-02 6.22058094e-01 2.96116577e-01 2.07303377e-02\n",
      " 1.99446017e-03 9.80473258e-04 4.26034556e-06 3.43339405e-07\n",
      " 3.72570144e-06 5.42833147e-07 9.38283159e-08 7.44798126e-07]\n",
      "[1.16591575e-02 6.38834950e-01 3.26692329e-01 2.05594208e-02\n",
      " 1.62113775e-03 6.28530214e-04 2.50599132e-06 1.44025421e-07\n",
      " 1.44714038e-06 1.38561265e-07 2.57239522e-08 2.13083836e-07]\n",
      "[9.85059936e-01 1.39247716e-02 9.79319592e-04 3.34315373e-05\n",
      " 1.86695092e-06 6.68180420e-07 2.92331521e-09 2.12872914e-10\n",
      " 1.46583583e-09 1.56952238e-10 5.91616749e-11 8.41291648e-10]\n",
      "[3.20706205e-01 4.49960900e-01 2.06734317e-01 1.85512466e-02\n",
      " 2.49172733e-03 1.53198976e-03 8.66141807e-06 7.75648583e-07\n",
      " 9.54834170e-06 2.78138698e-06 4.73927832e-07 1.37384854e-06]\n",
      "[1.13741655e-02 6.29355860e-01 3.26549574e-01 2.91394659e-02\n",
      " 2.62572878e-03 9.45029365e-04 5.21180167e-06 4.11325640e-07\n",
      " 3.28752596e-06 5.13294293e-07 1.06155568e-07 6.46376283e-07]\n",
      "[7.72036384e-33 1.69944453e-08 4.10582249e-02 5.10508770e-01\n",
      " 2.47371507e-01 1.97144240e-01 1.08708727e-03 7.92117310e-05\n",
      " 7.93608542e-04 3.11021081e-04 1.12917919e-04 1.53339474e-03]\n",
      "[1.57332795e-16 1.21361077e-03 4.94664291e-01 3.83166916e-01\n",
      " 8.09706112e-02 3.95546442e-02 2.05953892e-04 1.39752196e-05\n",
      " 1.29203782e-04 2.84321877e-05 4.00075354e-06 4.83611041e-05]\n",
      "[2.34944533e-02 7.22043274e-01 2.38531209e-01 1.48048917e-02\n",
      " 8.97875120e-04 2.26379270e-04 1.02612463e-06 7.97099463e-08\n",
      " 6.07393405e-07 3.50550122e-08 1.39462562e-08 1.55237644e-07]\n",
      "[9.83357342e-01 1.55442286e-02 1.06974290e-03 2.71261698e-05\n",
      " 1.20337891e-06 3.54943499e-07 1.18394748e-09 8.94890044e-11\n",
      " 8.76443676e-10 2.11285585e-11 1.17474649e-11 1.94334254e-10]\n",
      "[3.90825421e-05 4.13698008e-01 5.28137577e-01 5.13460082e-02\n",
      " 4.79143862e-03 1.96862707e-03 9.36347518e-06 6.18270936e-07\n",
      " 5.44229391e-06 1.85268643e-06 2.50920281e-07 1.73077038e-06]\n"
     ]
    }
   ],
   "source": [
    "for i in range(0,12):\n",
    "    print(contr[i])"
   ]
  },
  {
   "cell_type": "code",
   "execution_count": 38,
   "metadata": {},
   "outputs": [
    {
     "ename": "ValueError",
     "evalue": "weights should have the same shape as x",
     "output_type": "error",
     "traceback": [
      "\u001b[0;31m---------------------------------------------------------------------------\u001b[0m",
      "\u001b[0;31mValueError\u001b[0m                                Traceback (most recent call last)",
      "\u001b[0;32m<ipython-input-38-c2bcd177730b>\u001b[0m in \u001b[0;36m<module>\u001b[0;34m\u001b[0m\n\u001b[1;32m      2\u001b[0m \u001b[0;31m#plt.hist(range(12), weights = f_true, alpha = 0.5)\u001b[0m\u001b[0;34m\u001b[0m\u001b[0;34m\u001b[0m\u001b[0;34m\u001b[0m\u001b[0m\n\u001b[1;32m      3\u001b[0m \u001b[0;31m#plt.hist(range(12), weights = f_est, alpha = 0.5)\u001b[0m\u001b[0;34m\u001b[0m\u001b[0;34m\u001b[0m\u001b[0;34m\u001b[0m\u001b[0m\n\u001b[0;32m----> 4\u001b[0;31m \u001b[0mplt\u001b[0m\u001b[0;34m.\u001b[0m\u001b[0mhist\u001b[0m\u001b[0;34m(\u001b[0m\u001b[0mbin_centers\u001b[0m\u001b[0;34m,\u001b[0m \u001b[0mbins\u001b[0m \u001b[0;34m=\u001b[0m \u001b[0mbinning_E\u001b[0m\u001b[0;34m,\u001b[0m \u001b[0mweights\u001b[0m \u001b[0;34m=\u001b[0m \u001b[0mf_est\u001b[0m\u001b[0;34m,\u001b[0m \u001b[0mlog\u001b[0m \u001b[0;34m=\u001b[0m \u001b[0;32mTrue\u001b[0m\u001b[0;34m,\u001b[0m \u001b[0malpha\u001b[0m\u001b[0;34m=\u001b[0m \u001b[0;36m0.5\u001b[0m\u001b[0;34m,\u001b[0m \u001b[0mlabel\u001b[0m \u001b[0;34m=\u001b[0m \u001b[0;34m'DSEA estimate'\u001b[0m\u001b[0;34m)\u001b[0m\u001b[0;34m\u001b[0m\u001b[0;34m\u001b[0m\u001b[0m\n\u001b[0m\u001b[1;32m      5\u001b[0m \u001b[0mplt\u001b[0m\u001b[0;34m.\u001b[0m\u001b[0mgca\u001b[0m\u001b[0;34m(\u001b[0m\u001b[0;34m)\u001b[0m\u001b[0;34m.\u001b[0m\u001b[0mset_xscale\u001b[0m\u001b[0;34m(\u001b[0m\u001b[0;34m'log'\u001b[0m\u001b[0;34m)\u001b[0m\u001b[0;34m\u001b[0m\u001b[0;34m\u001b[0m\u001b[0m\n\u001b[1;32m      6\u001b[0m \u001b[0mplt\u001b[0m\u001b[0;34m.\u001b[0m\u001b[0myscale\u001b[0m\u001b[0;34m(\u001b[0m\u001b[0;34m'log'\u001b[0m\u001b[0;34m)\u001b[0m\u001b[0;34m\u001b[0m\u001b[0;34m\u001b[0m\u001b[0m\n",
      "\u001b[0;32m~/.local/anaconda3/lib/python3.8/site-packages/matplotlib/pyplot.py\u001b[0m in \u001b[0;36mhist\u001b[0;34m(x, bins, range, density, weights, cumulative, bottom, histtype, align, orientation, rwidth, log, color, label, stacked, data, **kwargs)\u001b[0m\n\u001b[1;32m   2683\u001b[0m         \u001b[0morientation\u001b[0m\u001b[0;34m=\u001b[0m\u001b[0;34m'vertical'\u001b[0m\u001b[0;34m,\u001b[0m \u001b[0mrwidth\u001b[0m\u001b[0;34m=\u001b[0m\u001b[0;32mNone\u001b[0m\u001b[0;34m,\u001b[0m \u001b[0mlog\u001b[0m\u001b[0;34m=\u001b[0m\u001b[0;32mFalse\u001b[0m\u001b[0;34m,\u001b[0m \u001b[0mcolor\u001b[0m\u001b[0;34m=\u001b[0m\u001b[0;32mNone\u001b[0m\u001b[0;34m,\u001b[0m\u001b[0;34m\u001b[0m\u001b[0;34m\u001b[0m\u001b[0m\n\u001b[1;32m   2684\u001b[0m         label=None, stacked=False, *, data=None, **kwargs):\n\u001b[0;32m-> 2685\u001b[0;31m     return gca().hist(\n\u001b[0m\u001b[1;32m   2686\u001b[0m         \u001b[0mx\u001b[0m\u001b[0;34m,\u001b[0m \u001b[0mbins\u001b[0m\u001b[0;34m=\u001b[0m\u001b[0mbins\u001b[0m\u001b[0;34m,\u001b[0m \u001b[0mrange\u001b[0m\u001b[0;34m=\u001b[0m\u001b[0mrange\u001b[0m\u001b[0;34m,\u001b[0m \u001b[0mdensity\u001b[0m\u001b[0;34m=\u001b[0m\u001b[0mdensity\u001b[0m\u001b[0;34m,\u001b[0m \u001b[0mweights\u001b[0m\u001b[0;34m=\u001b[0m\u001b[0mweights\u001b[0m\u001b[0;34m,\u001b[0m\u001b[0;34m\u001b[0m\u001b[0;34m\u001b[0m\u001b[0m\n\u001b[1;32m   2687\u001b[0m         \u001b[0mcumulative\u001b[0m\u001b[0;34m=\u001b[0m\u001b[0mcumulative\u001b[0m\u001b[0;34m,\u001b[0m \u001b[0mbottom\u001b[0m\u001b[0;34m=\u001b[0m\u001b[0mbottom\u001b[0m\u001b[0;34m,\u001b[0m \u001b[0mhisttype\u001b[0m\u001b[0;34m=\u001b[0m\u001b[0mhisttype\u001b[0m\u001b[0;34m,\u001b[0m\u001b[0;34m\u001b[0m\u001b[0;34m\u001b[0m\u001b[0m\n",
      "\u001b[0;32m~/.local/anaconda3/lib/python3.8/site-packages/matplotlib/__init__.py\u001b[0m in \u001b[0;36minner\u001b[0;34m(ax, data, *args, **kwargs)\u001b[0m\n\u001b[1;32m   1436\u001b[0m     \u001b[0;32mdef\u001b[0m \u001b[0minner\u001b[0m\u001b[0;34m(\u001b[0m\u001b[0max\u001b[0m\u001b[0;34m,\u001b[0m \u001b[0;34m*\u001b[0m\u001b[0margs\u001b[0m\u001b[0;34m,\u001b[0m \u001b[0mdata\u001b[0m\u001b[0;34m=\u001b[0m\u001b[0;32mNone\u001b[0m\u001b[0;34m,\u001b[0m \u001b[0;34m**\u001b[0m\u001b[0mkwargs\u001b[0m\u001b[0;34m)\u001b[0m\u001b[0;34m:\u001b[0m\u001b[0;34m\u001b[0m\u001b[0;34m\u001b[0m\u001b[0m\n\u001b[1;32m   1437\u001b[0m         \u001b[0;32mif\u001b[0m \u001b[0mdata\u001b[0m \u001b[0;32mis\u001b[0m \u001b[0;32mNone\u001b[0m\u001b[0;34m:\u001b[0m\u001b[0;34m\u001b[0m\u001b[0;34m\u001b[0m\u001b[0m\n\u001b[0;32m-> 1438\u001b[0;31m             \u001b[0;32mreturn\u001b[0m \u001b[0mfunc\u001b[0m\u001b[0;34m(\u001b[0m\u001b[0max\u001b[0m\u001b[0;34m,\u001b[0m \u001b[0;34m*\u001b[0m\u001b[0mmap\u001b[0m\u001b[0;34m(\u001b[0m\u001b[0msanitize_sequence\u001b[0m\u001b[0;34m,\u001b[0m \u001b[0margs\u001b[0m\u001b[0;34m)\u001b[0m\u001b[0;34m,\u001b[0m \u001b[0;34m**\u001b[0m\u001b[0mkwargs\u001b[0m\u001b[0;34m)\u001b[0m\u001b[0;34m\u001b[0m\u001b[0;34m\u001b[0m\u001b[0m\n\u001b[0m\u001b[1;32m   1439\u001b[0m \u001b[0;34m\u001b[0m\u001b[0m\n\u001b[1;32m   1440\u001b[0m         \u001b[0mbound\u001b[0m \u001b[0;34m=\u001b[0m \u001b[0mnew_sig\u001b[0m\u001b[0;34m.\u001b[0m\u001b[0mbind\u001b[0m\u001b[0;34m(\u001b[0m\u001b[0max\u001b[0m\u001b[0;34m,\u001b[0m \u001b[0;34m*\u001b[0m\u001b[0margs\u001b[0m\u001b[0;34m,\u001b[0m \u001b[0;34m**\u001b[0m\u001b[0mkwargs\u001b[0m\u001b[0;34m)\u001b[0m\u001b[0;34m\u001b[0m\u001b[0;34m\u001b[0m\u001b[0m\n",
      "\u001b[0;32m~/.local/anaconda3/lib/python3.8/site-packages/matplotlib/axes/_axes.py\u001b[0m in \u001b[0;36mhist\u001b[0;34m(self, x, bins, range, density, weights, cumulative, bottom, histtype, align, orientation, rwidth, log, color, label, stacked, **kwargs)\u001b[0m\n\u001b[1;32m   6601\u001b[0m             \u001b[0mlen_xi\u001b[0m \u001b[0;34m=\u001b[0m \u001b[0mlen\u001b[0m\u001b[0;34m(\u001b[0m\u001b[0mxi\u001b[0m\u001b[0;34m)\u001b[0m\u001b[0;34m\u001b[0m\u001b[0;34m\u001b[0m\u001b[0m\n\u001b[1;32m   6602\u001b[0m             \u001b[0;32mif\u001b[0m \u001b[0mwi\u001b[0m \u001b[0;32mis\u001b[0m \u001b[0;32mnot\u001b[0m \u001b[0;32mNone\u001b[0m \u001b[0;32mand\u001b[0m \u001b[0mlen\u001b[0m\u001b[0;34m(\u001b[0m\u001b[0mwi\u001b[0m\u001b[0;34m)\u001b[0m \u001b[0;34m!=\u001b[0m \u001b[0mlen_xi\u001b[0m\u001b[0;34m:\u001b[0m\u001b[0;34m\u001b[0m\u001b[0;34m\u001b[0m\u001b[0m\n\u001b[0;32m-> 6603\u001b[0;31m                 \u001b[0;32mraise\u001b[0m \u001b[0mValueError\u001b[0m\u001b[0;34m(\u001b[0m\u001b[0;34m'weights should have the same shape as x'\u001b[0m\u001b[0;34m)\u001b[0m\u001b[0;34m\u001b[0m\u001b[0;34m\u001b[0m\u001b[0m\n\u001b[0m\u001b[1;32m   6604\u001b[0m             \u001b[0;32mif\u001b[0m \u001b[0mlen_xi\u001b[0m\u001b[0;34m:\u001b[0m\u001b[0;34m\u001b[0m\u001b[0;34m\u001b[0m\u001b[0m\n\u001b[1;32m   6605\u001b[0m                 \u001b[0minput_empty\u001b[0m \u001b[0;34m=\u001b[0m \u001b[0;32mFalse\u001b[0m\u001b[0;34m\u001b[0m\u001b[0;34m\u001b[0m\u001b[0m\n",
      "\u001b[0;31mValueError\u001b[0m: weights should have the same shape as x"
     ]
    },
    {
     "data": {
      "image/png": "[encoded data removed]",
      "text/plain": [
       "<Figure size 432x288 with 1 Axes>"
      ]
     },
     "metadata": {
      "needs_background": "light"
     },
     "output_type": "display_data"
    }
   ],
   "source": [
    "from matplotlib import pyplot as plt\n",
    "#plt.hist(range(12), weights = f_true, alpha = 0.5)\n",
    "#plt.hist(range(12), weights = f_est, alpha = 0.5)\n",
    "plt.hist(bin_centers, bins = binning_E, weights = f_est, log = True, alpha= 0.5, label = 'DSEA estimate')\n",
    "plt.gca().set_xscale('log')\n",
    "plt.yscale('log')\n",
    "plt.show()"
   ]
  },
  {
   "cell_type": "code",
   "execution_count": 20,
   "metadata": {},
   "outputs": [
    {
     "data": {
      "image/png": "[encoded data removed]",
      "text/plain": [
       "<Figure size 432x288 with 1 Axes>"
      ]
     },
     "metadata": {
      "needs_background": "light"
     },
     "output_type": "display_data"
    }
   ],
   "source": [
    "from matplotlib import pyplot as plt\n",
    "from cherenkovdeconvolution import dsea\n",
    "from sklearn.tree import ExtraTreeClassifier\n",
    "\n",
    "f_est2, contr = dsea(X_test, X_train, Y_train, ExtraTreeClassifier(),fixweighting = False, K = 3,return_contributions = True)\n",
    "plt.hist(range(12), weights = f_true, alpha = 0.5)\n",
    "plt.hist(range(12), weights = f_est2, alpha = 0.5)\n",
    "\n",
    "plt.yscale('log')\n",
    "plt.show()"
   ]
  },
  {
   "cell_type": "code",
   "execution_count": 17,
   "metadata": {},
   "outputs": [
    {
     "data": {
      "text/plain": [
       "(array([1., 0., 0., 0., 0., 0., 0., 0., 0., 0.]),\n",
       " array([ 0. ,  1.1,  2.2,  3.3,  4.4,  5.5,  6.6,  7.7,  8.8,  9.9, 11. ]),\n",
       " [<matplotlib.patches.Polygon at 0x7ff09cd26970>])"
      ]
     },
     "execution_count": 17,
     "metadata": {},
     "output_type": "execute_result"
    },
    {
     "data": {
      "image/png": "[encoded data removed]",
      "text/plain": [
       "<Figure size 432x288 with 1 Axes>"
      ]
     },
     "metadata": {
      "needs_background": "light"
     },
     "output_type": "display_data"
    }
   ],
   "source": [
    "plt.hist(range(12), weights = contr[12], alpha = 0.5, histtype = 'step')\n"
   ]
  },
  {
   "cell_type": "code",
   "execution_count": 25,
   "metadata": {},
   "outputs": [
    {
     "name": "stdout",
     "output_type": "stream",
     "text": [
      "[0. 0. 0. 1. 0. 0. 0. 0. 0. 0. 0. 0.]\n",
      "[1. 0. 0. 0. 0. 0. 0. 0. 0. 0. 0. 0.]\n",
      "[0. 0. 1. 0. 0. 0. 0. 0. 0. 0. 0. 0.]\n",
      "[0. 0. 1. 0. 0. 0. 0. 0. 0. 0. 0. 0.]\n",
      "[0. 1. 0. 0. 0. 0. 0. 0. 0. 0. 0. 0.]\n",
      "[0. 0. 1. 0. 0. 0. 0. 0. 0. 0. 0. 0.]\n",
      "[1. 0. 0. 0. 0. 0. 0. 0. 0. 0. 0. 0.]\n",
      "[0. 0. 0. 0. 0. 0. 1. 0. 0. 0. 0. 0.]\n",
      "[0. 0. 1. 0. 0. 0. 0. 0. 0. 0. 0. 0.]\n",
      "[1. 0. 0. 0. 0. 0. 0. 0. 0. 0. 0. 0.]\n",
      "[1. 0. 0. 0. 0. 0. 0. 0. 0. 0. 0. 0.]\n",
      "[0. 0. 0. 1. 0. 0. 0. 0. 0. 0. 0. 0.]\n"
     ]
    }
   ],
   "source": [
    "for i in range(0,12):\n",
    "    print(contr[i])"
   ]
  },
  {
   "cell_type": "code",
   "execution_count": 6,
   "metadata": {},
   "outputs": [
    {
     "data": {
      "image/png": "[encoded data removed]",
      "text/plain": [
       "<Figure size 432x288 with 1 Axes>"
      ]
     },
     "metadata": {
      "needs_background": "light"
     },
     "output_type": "display_data"
    }
   ],
   "source": [
    "from cherenkovdeconvolution import dsea\n",
    "from sklearn.ensemble import RandomForestClassifier\n",
    "f_est3, contr = dsea(X_test, X_train, Y_train,RandomForestClassifier(), K=3, return_contributions = True)\n",
    "plt.hist(range(12), weights = f_true, alpha = 0.5)\n",
    "plt.hist(range(12), weights = f_est3, alpha = 0.5)\n",
    "plt.yscale('log')\n",
    "plt.show()"
   ]
  },
  {
   "cell_type": "code",
   "execution_count": 33,
   "metadata": {},
   "outputs": [
    {
     "name": "stdout",
     "output_type": "stream",
     "text": [
      "[1.92015676e-14 5.99524650e-04 2.02450257e-02 5.00108499e-01\n",
      " 4.03187720e-01 5.86126603e-02 1.19533086e-02 1.77357608e-03\n",
      " 2.20296305e-03 5.46356113e-04 2.50158245e-04 5.20207776e-04]\n",
      "[9.78176001e-01 1.76205912e-02 3.82933275e-03 2.98738005e-04\n",
      " 4.24972812e-05 3.22462192e-05 1.85763972e-07 1.82753865e-08\n",
      " 2.44217696e-07 6.07331079e-08 1.21100177e-08 7.21150682e-08]\n",
      "[5.81103465e-02 6.22058094e-01 2.96116577e-01 2.07303377e-02\n",
      " 1.99446017e-03 9.80473258e-04 4.26034556e-06 3.43339405e-07\n",
      " 3.72570144e-06 5.42833147e-07 9.38283159e-08 7.44798126e-07]\n",
      "[1.16591575e-02 6.38834950e-01 3.26692329e-01 2.05594208e-02\n",
      " 1.62113775e-03 6.28530214e-04 2.50599132e-06 1.44025421e-07\n",
      " 1.44714038e-06 1.38561265e-07 2.57239522e-08 2.13083836e-07]\n",
      "[9.85059936e-01 1.39247716e-02 9.79319592e-04 3.34315373e-05\n",
      " 1.86695092e-06 6.68180420e-07 2.92331521e-09 2.12872914e-10\n",
      " 1.46583583e-09 1.56952238e-10 5.91616749e-11 8.41291648e-10]\n",
      "[3.20706205e-01 4.49960900e-01 2.06734317e-01 1.85512466e-02\n",
      " 2.49172733e-03 1.53198976e-03 8.66141807e-06 7.75648583e-07\n",
      " 9.54834170e-06 2.78138698e-06 4.73927832e-07 1.37384854e-06]\n",
      "[1.13741655e-02 6.29355860e-01 3.26549574e-01 2.91394659e-02\n",
      " 2.62572878e-03 9.45029365e-04 5.21180167e-06 4.11325640e-07\n",
      " 3.28752596e-06 5.13294293e-07 1.06155568e-07 6.46376283e-07]\n",
      "[7.72036384e-33 1.69944453e-08 4.10582249e-02 5.10508770e-01\n",
      " 2.47371507e-01 1.97144240e-01 1.08708727e-03 7.92117310e-05\n",
      " 7.93608542e-04 3.11021081e-04 1.12917919e-04 1.53339474e-03]\n",
      "[1.57332795e-16 1.21361077e-03 4.94664291e-01 3.83166916e-01\n",
      " 8.09706112e-02 3.95546442e-02 2.05953892e-04 1.39752196e-05\n",
      " 1.29203782e-04 2.84321877e-05 4.00075354e-06 4.83611041e-05]\n",
      "[2.34944533e-02 7.22043274e-01 2.38531209e-01 1.48048917e-02\n",
      " 8.97875120e-04 2.26379270e-04 1.02612463e-06 7.97099463e-08\n",
      " 6.07393405e-07 3.50550122e-08 1.39462562e-08 1.55237644e-07]\n",
      "[9.83357342e-01 1.55442286e-02 1.06974290e-03 2.71261698e-05\n",
      " 1.20337891e-06 3.54943499e-07 1.18394748e-09 8.94890044e-11\n",
      " 8.76443676e-10 2.11285585e-11 1.17474649e-11 1.94334254e-10]\n",
      "[3.90825421e-05 4.13698008e-01 5.28137577e-01 5.13460082e-02\n",
      " 4.79143862e-03 1.96862707e-03 9.36347518e-06 6.18270936e-07\n",
      " 5.44229391e-06 1.85268643e-06 2.50920281e-07 1.73077038e-06]\n"
     ]
    }
   ],
   "source": [
    "for i in range(0,12):\n",
    "    print(contr[i])"
   ]
  },
  {
   "cell_type": "code",
   "execution_count": 34,
   "metadata": {},
   "outputs": [
    {
     "data": {
      "text/plain": [
       "(array([6.13275833e-01, 3.60362174e-01, 2.34128359e-02, 2.02662352e-03,\n",
       "        9.11681249e-04, 4.06581182e-06, 3.15173321e-07, 4.05946909e-06,\n",
       "        5.96055294e-07, 1.81552873e-06]),\n",
       " array([ 0. ,  1.1,  2.2,  3.3,  4.4,  5.5,  6.6,  7.7,  8.8,  9.9, 11. ]),\n",
       " [<matplotlib.patches.Polygon at 0x7ff0956c4fa0>])"
      ]
     },
     "execution_count": 34,
     "metadata": {},
     "output_type": "execute_result"
    },
    {
     "data": {
      "image/png": "[encoded data removed]",
      "text/plain": [
       "<Figure size 432x288 with 1 Axes>"
      ]
     },
     "metadata": {
      "needs_background": "light"
     },
     "output_type": "display_data"
    }
   ],
   "source": [
    "plt.hist(range(12), weights = contr[12], alpha = 0.5, histtype = 'step')\n"
   ]
  },
  {
   "cell_type": "code",
   "execution_count": 7,
   "metadata": {},
   "outputs": [
    {
     "data": {
      "image/png": "[encoded data removed]",
      "text/plain": [
       "<Figure size 432x288 with 1 Axes>"
      ]
     },
     "metadata": {
      "needs_background": "light"
     },
     "output_type": "display_data"
    }
   ],
   "source": [
    "from cherenkovdeconvolution import dsea\n",
    "from sklearn.tree import DecisionTreeClassifier\n",
    "f_est4 = dsea(X_test, X_train, Y_train,DecisionTreeClassifier(), K=3) \n",
    "plt.hist(range(12), weights = f_true, alpha = 0.5)\n",
    "plt.hist(range(12), weights = f_est4, alpha = 0.5)\n",
    "plt.yscale('log')\n",
    "plt.show()"
   ]
  },
  {
   "cell_type": "code",
   "execution_count": 10,
   "metadata": {},
   "outputs": [
    {
     "name": "stdout",
     "output_type": "stream",
     "text": [
      "0\n",
      "1\n",
      "2\n",
      "3\n"
     ]
    },
    {
     "data": {
      "image/png": "[encoded data removed]",
      "text/plain": [
       "<Figure size 432x288 with 1 Axes>"
      ]
     },
     "metadata": {
      "needs_background": "light"
     },
     "output_type": "display_data"
    }
   ],
   "source": [
    "import cherenkovdeconvolution.stepsize as stepsize\n",
    "\n",
    "# first of all, we set up an inspection function, which prints the step size of each iteration\n",
    "def inspect_alpha(k, alpha, chi2s, f): # you can define custom inspection methods to investigate DSEA\n",
    "    print(alpha)\n",
    "\n",
    "# There are two decay rates, the first of which is comparably slow\n",
    "alpha_mul = stepsize.decay_mul(0.5)\n",
    "f_est_mul = dsea(X_test, X_train, Y_train, GaussianNB(), K = 3, inspect = inspect_alpha, alpha = alpha_mul)\n",
    "plt.hist(range(12), weights = f_true, alpha = 0.5)\n",
    "plt.hist(range(12), weights = f_est_mul, alpha = 0.5)\n",
    "plt.yscale('log')\n",
    "plt.show()"
   ]
  },
  {
   "cell_type": "code",
   "execution_count": 13,
   "metadata": {},
   "outputs": [
    {
     "name": "stdout",
     "output_type": "stream",
     "text": [
      "0\n",
      "1\n",
      "2\n"
     ]
    },
    {
     "data": {
      "image/png": "[encoded data removed]",
      "text/plain": [
       "<Figure size 432x288 with 1 Axes>"
      ]
     },
     "metadata": {
      "needs_background": "light"
     },
     "output_type": "display_data"
    }
   ],
   "source": [
    "alpha_exp = stepsize.decay_exp(0.5, 2.0) # start with step size 2\n",
    "f_est_exp = dsea(X_test, X_train, Y_train, GaussianNB(), K = 3, inspect = inspect_alpha,  alpha = alpha_exp)\n",
    "plt.hist(range(12), weights = f_true, alpha = 0.5)\n",
    "plt.hist(range(12), weights = f_est_exp, alpha = 0.5)\n",
    "plt.yscale('log')\n",
    "plt.show()"
   ]
  },
  {
   "cell_type": "code",
   "execution_count": 27,
   "metadata": {},
   "outputs": [
    {
     "name": "stdout",
     "output_type": "stream",
     "text": [
      "Iteration 0: alpha = nan\n",
      "Iteration 1: alpha = 0.9988924213528076\n",
      "Iteration 2: alpha = 5.663671779334335e-14\n",
      "Iteration 3: alpha = 4.9999644209182255e-14\n",
      "Chi square distance between f_est and f_true: 0.22142138938142164\n"
     ]
    },
    {
     "data": {
      "text/plain": [
       "array([0.41099392, 0.22127159, 0.16646245, 0.0853378 , 0.04667541,\n",
       "       0.03840207, 0.00767099, 0.00349916, 0.00720699, 0.00459314,\n",
       "       0.00350665, 0.00437982])"
      ]
     },
     "execution_count": 27,
     "metadata": {},
     "output_type": "execute_result"
    }
   ],
   "source": [
    "from cherenkovdeconvolution.discretize import TreeDiscretizer\n",
    "discretizer = TreeDiscretizer(X_train, Y_train, 4)\n",
    "x_data  = discretizer.discretize(X_test)\n",
    "x_train = discretizer.discretize(X_train)\n",
    "alpha = stepsize.alpha_adaptive_run(x_data, x_train, Y_train, tau = 0, bins_y = [0,  1,  2,  3,  4,  5,  6,  7,  8,  9, 10, 11])\n",
    "\n",
    "# inspect the chosen alpha values with a callback function\n",
    "def inspect_alpha(f, k, a, chi2s): # this signature is mandatory. Here, f is the latest estimate.\n",
    "    print('Iteration {}: alpha = {}'.format(k, a)) # print iteration number and alpha value\n",
    "# deconvolve\n",
    "f_est = dsea(X_test, X_train, Y_train, GaussianNB(), K = 3, alpha = alpha,inspect = inspect_alpha)\n",
    "print('Chi square distance between f_est and f_true: {}'.format(util.chi2s(f_est, f_true)))\n",
    "f_est"
   ]
  },
  {
   "cell_type": "code",
   "execution_count": 32,
   "metadata": {},
   "outputs": [
    {
     "name": "stderr",
     "output_type": "stream",
     "text": [
      "/home/jajaek/.local/anaconda3/lib/python3.8/site-packages/sklearn/linear_model/_logistic.py:762: ConvergenceWarning: lbfgs failed to converge (status=1):\n",
      "STOP: TOTAL NO. of ITERATIONS REACHED LIMIT.\n",
      "\n",
      "Increase the number of iterations (max_iter) or scale the data as shown in:\n",
      "    https://scikit-learn.org/stable/modules/preprocessing.html\n",
      "Please also refer to the documentation for alternative solver options:\n",
      "    https://scikit-learn.org/stable/modules/linear_model.html#logistic-regression\n",
      "  n_iter_i = _check_optimize_result(\n"
     ]
    },
    {
     "data": {
      "image/png": "[encoded data removed]",
      "text/plain": [
       "<Figure size 432x288 with 1 Axes>"
      ]
     },
     "metadata": {
      "needs_background": "light"
     },
     "output_type": "display_data"
    }
   ],
   "source": [
    "from sklearn.linear_model import LogisticRegression\n",
    "\n",
    "f_logi = dsea(X_test, X_train, Y_train,LogisticRegression(), K=1) \n",
    "plt.hist(range(12), weights = f_true, alpha = 0.5)\n",
    "plt.hist(range(12), weights = f_logi, alpha = 0.5)\n",
    "plt.yscale('log')\n",
    "plt.show()"
   ]
  },
  {
   "cell_type": "code",
   "execution_count": 7,
   "metadata": {},
   "outputs": [
    {
     "data": {
      "text/plain": [
       "array([0.05834189, 0.0796879 , 0.09175746, 0.09737599, 0.10063295,\n",
       "       0.09989575, 0.0956372 , 0.09148121, 0.08473384, 0.07363908,\n",
       "       0.06470635, 0.06211038])"
      ]
     },
     "execution_count": 7,
     "metadata": {},
     "output_type": "execute_result"
    }
   ],
   "source": [
    "from cherenkovdeconvolution import dsea\n",
    "from sklearn.linear_model import LogisticRegression\n",
    "\n",
    "f_multi = dsea(X_test, X_train, Y_train,LogisticRegression(solver='saga',multi_class='multinomial',max_iter=10000), K=3)\n",
    "f_multi"
   ]
  },
  {
   "cell_type": "code",
   "execution_count": 8,
   "metadata": {},
   "outputs": [
    {
     "data": {
      "text/plain": [
       "array([4.04024442e-03, 5.82009535e-02, 2.98888201e-01, 4.06214189e-01,\n",
       "       1.78398832e-01, 4.42148696e-02, 8.21392319e-03, 1.44996711e-03,\n",
       "       3.01953052e-04, 6.46942031e-05, 1.16346633e-05, 5.39056535e-07])"
      ]
     },
     "execution_count": 8,
     "metadata": {},
     "output_type": "execute_result"
    }
   ],
   "source": [
    "from mord import LogisticSE\n",
    "from cherenkovdeconvolution import dsea\n",
    "\n",
    "f_ord=dsea(X_test, X_train, Y_train,LogisticSE(alpha=1.), K = 3)\n",
    "f_ord"
   ]
  },
  {
   "cell_type": "code",
   "execution_count": 12,
   "metadata": {},
   "outputs": [
    {
     "data": {
      "image/png": "[encoded data removed]",
      "text/plain": [
       "<Figure size 432x288 with 1 Axes>"
      ]
     },
     "metadata": {
      "needs_background": "light"
     },
     "output_type": "display_data"
    }
   ],
   "source": [
    "from matplotlib import pyplot as plt\n",
    "plt.hist(range(12), weights = f_true, alpha = 0.5)\n",
    "plt.hist(range(12), weights = f_multi, alpha = 0.5)\n",
    "plt.yscale('log')\n",
    "plt.show()\n"
   ]
  },
  {
   "cell_type": "code",
   "execution_count": 13,
   "metadata": {},
   "outputs": [
    {
     "name": "stdout",
     "output_type": "stream",
     "text": [
      "Chi square distance between f_est and f_true: 1.8169194441082137\n"
     ]
    }
   ],
   "source": [
    "print('Chi square distance between f_est and f_true: {}'.format(util.chi2s(f_multi, f_true)))"
   ]
  },
  {
   "cell_type": "code",
   "execution_count": 15,
   "metadata": {},
   "outputs": [
    {
     "data": {
      "image/png": "[encoded data removed]",
      "text/plain": [
       "<Figure size 432x288 with 1 Axes>"
      ]
     },
     "metadata": {
      "needs_background": "light"
     },
     "output_type": "display_data"
    },
    {
     "name": "stdout",
     "output_type": "stream",
     "text": [
      "Chi square distance between f_est and f_true: 1.5687256585874765\n"
     ]
    }
   ],
   "source": [
    "plt.hist(range(12), weights = f_true, alpha = 0.5)\n",
    "plt.hist(range(12), weights = f_ord, alpha = 0.5)\n",
    "plt.yscale('log')\n",
    "plt.show()\n",
    "print('Chi square distance between f_est and f_true: {}'.format(util.chi2s(f_ord, f_true)))"
   ]
  },
  {
   "cell_type": "code",
   "execution_count": null,
   "metadata": {},
   "outputs": [],
   "source": []
  }
 ],
 "metadata": {
  "kernelspec": {
   "display_name": "Python 3",
   "language": "python",
   "name": "python3"
  },
  "language_info": {
   "codemirror_mode": {
    "name": "ipython",
    "version": 3
   },
   "file_extension": ".py",
   "mimetype": "text/x-python",
   "name": "python",
   "nbconvert_exporter": "python",
   "pygments_lexer": "ipython3",
   "version": "3.8.3"
  }
 },
 "nbformat": 4,
 "nbformat_minor": 4
}
