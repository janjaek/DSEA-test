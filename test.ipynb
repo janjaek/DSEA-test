{
 "cells": [
  {
   "cell_type": "code",
   "execution_count": 1,
   "metadata": {},
   "outputs": [
    {
     "data": {
      "text/plain": [
       "array([2.5758e-01, 3.6933e-01, 2.1760e-01, 9.6360e-02, 3.7990e-02,\n",
       "       1.3770e-02, 4.6200e-03, 1.8000e-03, 6.3000e-04, 2.4000e-04,\n",
       "       5.0000e-05, 3.0000e-05])"
      ]
     },
     "execution_count": 1,
     "metadata": {},
     "output_type": "execute_result"
    }
   ],
   "source": [
    "import pandas as pd\n",
    "import numpy as np\n",
    "from cherenkovdeconvolution import util\n",
    "\n",
    "#p.set_printoptions(threshold=np.inf)\n",
    "#df = pd.read_csv('sample.csv')\n",
    "df=pd.read_csv('sample.csv', nrows=1000000)\n",
    "#print(df.head(8))\n",
    "#X = df[['SplineMPEDirectHitsD.dir_track_length',\n",
    "#'SPEFit2_HVFitParams.nmini'                       ,\n",
    "#'LineFitGeoSplit2.zenith',\n",
    "#   'SplineMPE.zenith'    ,\n",
    "#     'SplineMPE.azimuth' \n",
    "#       'SPEFit2GeoSplit1BayesianFitParams.nmini',\n",
    "#       'SPEFit2Bayesian.x',\n",
    "#       'VariousVariables.Cone_Angle',\n",
    "#       'SPEFit2TimeSplit1FitParams.logl',\n",
    "#       'weight_honda_h4a']]\n",
    "X = df[['SPEFit2Bayesian.x',\n",
    "        'SPEFit2BayesianFitParams.nmini',\n",
    "        'SPEFit2_HVFitParams.nmini',\n",
    "        'SplineMPE.zenith',\n",
    "        'SplineMPECharacteristicsIC.avg_dom_dist_q_tot_dom',\n",
    "        'SplineMPEDirectHitsD.dir_track_length',\n",
    "        'SplineMPEDirectHitsICB.n_early_strings',\n",
    "        'SplineMPEDirectHitsICB.n_late_doms',\n",
    "        'SplineMPEDirectHitsICD.n_dir_strings',\n",
    "        'SplineMPEDirectHitsICE.n_late_strings',\n",
    "        'SplineMPETruncatedEnergy_SPICEMie_AllDOMS_MuEres.value']]\n",
    "\n",
    "Y = df['MCPrimary.energy']\n",
    "#'Dustyness.n_doms_in_dust','BestTrackDirectHitsICC.n_early_strings',\n",
    "binning_E = np.logspace(np.log10(Y.min()-10),\n",
    "np.log10(Y.max()+100), 13)    # creating 12 bins for the energy \n",
    "\n",
    "\n",
    "\n",
    "#Binning overflow & underflow manually\n",
    "overflow = 1e10\n",
    "bins_over = np.append(binning_E,overflow)\n",
    "binning_E = bins_over\n",
    "\n",
    "Y = np.digitize(Y, binning_E)  \n",
    "\n",
    "Y = Y - 1\n",
    "\n",
    "n_test = int(len(df)/10)\n",
    "\n",
    "X_train = X.iloc[n_test:]#splitting the dataframe\n",
    "Y_train = Y[n_test:]\n",
    "\n",
    "X_test = X.iloc[:n_test]\n",
    "Y_test = Y[:n_test]\n",
    "\n",
    "f_true = util.fit_pdf(Y_test) \n",
    "f_true\n",
    "\n"
   ]
  },
  {
   "cell_type": "code",
   "execution_count": 2,
   "metadata": {},
   "outputs": [],
   "source": [
    "from cherenkovdeconvolution import dsea\n",
    "from sklearn.naive_bayes import GaussianNB\n",
    "#from sklearn.naive_bayes import BernoulliNB #worse than gaussian\n",
    "#from sklearn.tree import DecisionTreeClassifier\n",
    "#from sklearn.tree import ExtraTreeClassifier # works extremly good on the data\n",
    "#from sklearn.ensemble import RandomForestClassifier# super slow; about the same results as ExtraTree\n",
    "\n",
    "f_est = dsea(X_test, X_train, Y_train, GaussianNB(), K=3) "
   ]
  },
  {
   "cell_type": "code",
   "execution_count": 3,
   "metadata": {},
   "outputs": [
    {
     "data": {
      "image/png": "[encoded data removed]",
      "text/plain": [
       "<Figure size 432x288 with 1 Axes>"
      ]
     },
     "metadata": {
      "needs_background": "light"
     },
     "output_type": "display_data"
    }
   ],
   "source": [
    "from matplotlib import pyplot as plt\n",
    "plt.hist(range(12), weights = f_true, alpha = 0.5)\n",
    "plt.hist(range(12), weights = f_est, alpha = 0.5)\n",
    "plt.yscale('log')\n",
    "plt.show()"
   ]
  },
  {
   "cell_type": "code",
   "execution_count": 4,
   "metadata": {},
   "outputs": [
    {
     "data": {
      "image/png": "[encoded data removed]",
      "text/plain": [
       "<Figure size 432x288 with 1 Axes>"
      ]
     },
     "metadata": {
      "needs_background": "light"
     },
     "output_type": "display_data"
    }
   ],
   "source": [
    "from cherenkovdeconvolution import dsea\n",
    "from sklearn.tree import ExtraTreeClassifier\n",
    "\n",
    "f_est2 = dsea(X_test, X_train, Y_train, ExtraTreeClassifier(), K=3) \n",
    "plt.hist(range(12), weights = f_true, alpha = 0.5)\n",
    "plt.hist(range(12), weights = f_est2, alpha = 0.5)\n",
    "plt.yscale('log')\n",
    "plt.show()"
   ]
  },
  {
   "cell_type": "code",
   "execution_count": 6,
   "metadata": {},
   "outputs": [
    {
     "data": {
      "image/png": "[encoded data removed]",
      "text/plain": [
       "<Figure size 432x288 with 1 Axes>"
      ]
     },
     "metadata": {
      "needs_background": "light"
     },
     "output_type": "display_data"
    }
   ],
   "source": [
    "from cherenkovdeconvolution import dsea\n",
    "from sklearn.ensemble import RandomForestClassifier\n",
    "f_est3 = dsea(X_test, X_train, Y_train,RandomForestClassifier(), K=3) \n",
    "plt.hist(range(12), weights = f_true, alpha = 0.5)\n",
    "plt.hist(range(12), weights = f_est3, alpha = 0.5)\n",
    "plt.yscale('log')\n",
    "plt.show()"
   ]
  },
  {
   "cell_type": "code",
   "execution_count": 7,
   "metadata": {},
   "outputs": [
    {
     "data": {
      "image/png": "[encoded data removed]",
      "text/plain": [
       "<Figure size 432x288 with 1 Axes>"
      ]
     },
     "metadata": {
      "needs_background": "light"
     },
     "output_type": "display_data"
    }
   ],
   "source": [
    "from cherenkovdeconvolution import dsea\n",
    "from sklearn.tree import DecisionTreeClassifier\n",
    "f_est4 = dsea(X_test, X_train, Y_train,DecisionTreeClassifier(), K=3) \n",
    "plt.hist(range(12), weights = f_true, alpha = 0.5)\n",
    "plt.hist(range(12), weights = f_est4, alpha = 0.5)\n",
    "plt.yscale('log')\n",
    "plt.show()"
   ]
  },
  {
   "cell_type": "code",
   "execution_count": null,
   "metadata": {},
   "outputs": [],
   "source": []
  }
 ],
 "metadata": {
  "kernelspec": {
   "display_name": "Python 3",
   "language": "python",
   "name": "python3"
  },
  "language_info": {
   "codemirror_mode": {
    "name": "ipython",
    "version": 3
   },
   "file_extension": ".py",
   "mimetype": "text/x-python",
   "name": "python",
   "nbconvert_exporter": "python",
   "pygments_lexer": "ipython3",
   "version": "3.8.3"
  }
 },
 "nbformat": 4,
 "nbformat_minor": 4
}
