{
 "cells": [
  {
   "cell_type": "code",
   "execution_count": 13,
   "metadata": {},
   "outputs": [
    {
     "data": {
      "text/plain": [
       "array([2.502e-01, 3.678e-01, 2.152e-01, 9.880e-02, 4.500e-02, 1.380e-02,\n",
       "       6.800e-03, 1.000e-03, 1.000e-03, 2.000e-04, 0.000e+00, 2.000e-04])"
      ]
     },
     "execution_count": 13,
     "metadata": {},
     "output_type": "execute_result"
    }
   ],
   "source": [
    "import pandas as pd\n",
    "import numpy as np\n",
    "from cherenkovdeconvolution import util\n",
    "\n",
    "#p.set_printoptions(threshold=np.inf)\n",
    "#df = pd.read_csv('sample.csv')\n",
    "df=pd.read_csv('sample.csv', nrows=50000)\n",
    "#print(df.head(8))\n",
    "X = df[['SplineMPEDirectHitsD.dir_track_length',\n",
    "'SPEFit2_HVFitParams.nmini'                       ,\n",
    "'LineFitGeoSplit2.zenith',\n",
    "   'SplineMPE.zenith'    ,\n",
    "     'SplineMPE.azimuth' ,\n",
    "       'SPEFit2GeoSplit1BayesianFitParams.nmini',\n",
    "       'SPEFit2Bayesian.x',\n",
    "       'VariousVariables.Cone_Angle',\n",
    "       'SPEFit2TimeSplit1FitParams.logl',\n",
    "       'weight_honda_h4a']]\n",
    "\n",
    "Y = df['MCPrimary.energy']\n",
    "#'Dustyness.n_doms_in_dust','BestTrackDirectHitsICC.n_early_strings',\n",
    "binning_E = np.logspace(np.log10(Y.min()-10),\n",
    "np.log10(Y.max()+100), 13)    # creating 12 bins for the energy \n",
    "\n",
    "Y = np.digitize(Y, binning_E) #Bining the target data\n",
    "n=len(Y)\n",
    "i=0\n",
    "#Binning overflow & underflow manually\n",
    "while i < n:#not sure if that is the correct way\n",
    "    if(Y[i]==13):\n",
    "        Y[i]=12\n",
    "        i=i+1\n",
    "    elif(Y[i]==0):\n",
    "        Y[i]=1\n",
    "        i=i+1\n",
    "    else:\n",
    "        i=i+1\n",
    "        \n",
    "n_test = int(len(df)/10)\n",
    "\n",
    "X_train = X.iloc[n_test:]#splitting the dataframe\n",
    "Y_train = Y[n_test:]\n",
    "\n",
    "X_test = X.iloc[:n_test]\n",
    "Y_test = Y[:n_test]\n",
    "\n",
    "f_true = util.fit_pdf(Y_test) \n",
    "f_true\n",
    "\n"
   ]
  },
  {
   "cell_type": "code",
   "execution_count": 14,
   "metadata": {},
   "outputs": [
    {
     "ename": "ValueError",
     "evalue": "dim(f_0) = 13 != 12, the number of classes",
     "output_type": "error",
     "traceback": [
      "\u001b[0;31m---------------------------------------------------------------------------\u001b[0m",
      "\u001b[0;31mValueError\u001b[0m                                Traceback (most recent call last)",
      "\u001b[0;32m<ipython-input-14-6472aff5b941>\u001b[0m in \u001b[0;36m<module>\u001b[0;34m\u001b[0m\n\u001b[1;32m      3\u001b[0m \u001b[0;34m\u001b[0m\u001b[0m\n\u001b[1;32m      4\u001b[0m \u001b[0;31m# deconvolve with a Naive Bayes classifier\u001b[0m\u001b[0;34m\u001b[0m\u001b[0;34m\u001b[0m\u001b[0;34m\u001b[0m\u001b[0m\n\u001b[0;32m----> 5\u001b[0;31m \u001b[0mf_est\u001b[0m \u001b[0;34m=\u001b[0m \u001b[0mdsea\u001b[0m\u001b[0;34m(\u001b[0m\u001b[0mX_test\u001b[0m\u001b[0;34m,\u001b[0m \u001b[0mX_train\u001b[0m\u001b[0;34m,\u001b[0m \u001b[0mY_train\u001b[0m\u001b[0;34m,\u001b[0m \u001b[0mGaussianNB\u001b[0m\u001b[0;34m(\u001b[0m\u001b[0;34m)\u001b[0m\u001b[0;34m)\u001b[0m \u001b[0;31m# perform a single iteration of DSEA with step size one\u001b[0m\u001b[0;34m\u001b[0m\u001b[0;34m\u001b[0m\u001b[0m\n\u001b[0m\u001b[1;32m      6\u001b[0m \u001b[0;34m\u001b[0m\u001b[0m\n",
      "\u001b[0;32m/mnt/c/Users/janja/Desktop/DSEA/CherenkovDeconvolution.py/cherenkovdeconvolution/methods/dsea.py\u001b[0m in \u001b[0;36mdeconvolve\u001b[0;34m(X_data, X_train, y_train, classifier, bins, f_0, fixweighting, alpha, smoothing, K, epsilon, inspect, return_contributions)\u001b[0m\n\u001b[1;32m    127\u001b[0m           \u001b[0malpha\u001b[0m\u001b[0;34m\u001b[0m\u001b[0;34m\u001b[0m\u001b[0m\n\u001b[1;32m    128\u001b[0m         ) # step size function assumes original coding\n\u001b[0;32m--> 129\u001b[0;31m         \u001b[0mf\u001b[0m \u001b[0;34m=\u001b[0m \u001b[0m_check_prior\u001b[0m\u001b[0;34m(\u001b[0m\u001b[0mf\u001b[0m\u001b[0;34m,\u001b[0m \u001b[0mrecode_dict\u001b[0m\u001b[0;34m)\u001b[0m \u001b[0;31m# re-code result of _dsea_step\u001b[0m\u001b[0;34m\u001b[0m\u001b[0;34m\u001b[0m\u001b[0m\n\u001b[0m\u001b[1;32m    130\u001b[0m         \u001b[0;31m# = = = = = = = = = = = = = =\u001b[0m\u001b[0;34m\u001b[0m\u001b[0;34m\u001b[0m\u001b[0;34m\u001b[0m\u001b[0m\n\u001b[1;32m    131\u001b[0m \u001b[0;34m\u001b[0m\u001b[0m\n",
      "\u001b[0;32m/mnt/c/Users/janja/Desktop/DSEA/CherenkovDeconvolution.py/cherenkovdeconvolution/__init__.py\u001b[0m in \u001b[0;36m_check_prior\u001b[0;34m(f_0, recode_dict, m, fit_ratios)\u001b[0m\n\u001b[1;32m     58\u001b[0m         \u001b[0;32mreturn\u001b[0m \u001b[0mnp\u001b[0m\u001b[0;34m.\u001b[0m\u001b[0mones\u001b[0m\u001b[0;34m(\u001b[0m\u001b[0mm\u001b[0m\u001b[0;34m)\u001b[0m \u001b[0;32mif\u001b[0m \u001b[0mfit_ratios\u001b[0m \u001b[0;32melse\u001b[0m \u001b[0mnp\u001b[0m\u001b[0;34m.\u001b[0m\u001b[0mones\u001b[0m\u001b[0;34m(\u001b[0m\u001b[0mm\u001b[0m\u001b[0;34m)\u001b[0m \u001b[0;34m/\u001b[0m \u001b[0mm\u001b[0m\u001b[0;34m\u001b[0m\u001b[0;34m\u001b[0m\u001b[0m\n\u001b[1;32m     59\u001b[0m     \u001b[0;32melif\u001b[0m \u001b[0mlen\u001b[0m\u001b[0;34m(\u001b[0m\u001b[0mf_0\u001b[0m\u001b[0;34m)\u001b[0m \u001b[0;34m!=\u001b[0m \u001b[0mm\u001b[0m\u001b[0;34m:\u001b[0m\u001b[0;34m\u001b[0m\u001b[0;34m\u001b[0m\u001b[0m\n\u001b[0;32m---> 60\u001b[0;31m         \u001b[0;32mraise\u001b[0m \u001b[0mValueError\u001b[0m\u001b[0;34m(\u001b[0m\u001b[0;34m'dim(f_0) = {} != {}, the number of classes'\u001b[0m\u001b[0;34m.\u001b[0m\u001b[0mformat\u001b[0m\u001b[0;34m(\u001b[0m\u001b[0mlen\u001b[0m\u001b[0;34m(\u001b[0m\u001b[0mf_0\u001b[0m\u001b[0;34m)\u001b[0m\u001b[0;34m,\u001b[0m \u001b[0mm\u001b[0m\u001b[0;34m)\u001b[0m\u001b[0;34m)\u001b[0m\u001b[0;34m\u001b[0m\u001b[0;34m\u001b[0m\u001b[0m\n\u001b[0m\u001b[1;32m     61\u001b[0m     \u001b[0;32melse\u001b[0m\u001b[0;34m:\u001b[0m\u001b[0;34m\u001b[0m\u001b[0;34m\u001b[0m\u001b[0m\n\u001b[1;32m     62\u001b[0m         \u001b[0;32mif\u001b[0m \u001b[0mrecode_dict\u001b[0m \u001b[0;34m!=\u001b[0m \u001b[0;32mNone\u001b[0m\u001b[0;34m:\u001b[0m\u001b[0;34m\u001b[0m\u001b[0;34m\u001b[0m\u001b[0m\n",
      "\u001b[0;31mValueError\u001b[0m: dim(f_0) = 13 != 12, the number of classes"
     ]
    }
   ],
   "source": [
    "from cherenkovdeconvolution import dsea\n",
    "from sklearn.naive_bayes import GaussianNB\n",
    "\n",
    "# deconvolve with a Naive Bayes classifier\n",
    "f_est = dsea(X_test, X_train, Y_train, GaussianNB()) # perform a single iteration of DSEA with step size one\n",
    "#ValueError: dim(f_0) = 13 != 12, the number of classes\n",
    "# i dont understand why dim(f_0)=13 \n",
    "# should be 12 \n"
   ]
  },
  {
   "cell_type": "code",
   "execution_count": null,
   "metadata": {},
   "outputs": [],
   "source": []
  }
 ],
 "metadata": {
  "kernelspec": {
   "display_name": "Python 3",
   "language": "python",
   "name": "python3"
  },
  "language_info": {
   "codemirror_mode": {
    "name": "ipython",
    "version": 3
   },
   "file_extension": ".py",
   "mimetype": "text/x-python",
   "name": "python",
   "nbconvert_exporter": "python",
   "pygments_lexer": "ipython3",
   "version": "3.8.3"
  }
 },
 "nbformat": 4,
 "nbformat_minor": 4
}
