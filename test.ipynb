{
 "cells": [
  {
   "cell_type": "code",
   "execution_count": 88,
   "metadata": {},
   "outputs": [
    {
     "data": {
      "text/plain": [
       "array([2.5758e-01, 3.6933e-01, 2.1760e-01, 9.6360e-02, 3.7990e-02,\n",
       "       1.3770e-02, 4.6200e-03, 1.8000e-03, 6.3000e-04, 2.4000e-04,\n",
       "       5.0000e-05, 3.0000e-05])"
      ]
     },
     "execution_count": 88,
     "metadata": {},
     "output_type": "execute_result"
    }
   ],
   "source": [
    "import pandas as pd\n",
    "import numpy as np\n",
    "from cherenkovdeconvolution import util\n",
    "\n",
    "#p.set_printoptions(threshold=np.inf)\n",
    "#df = pd.read_csv('sample.csv')\n",
    "df=pd.read_csv('sample.csv', nrows=1000000)\n",
    "#print(df.head(8))\n",
    "#X = df[['SplineMPEDirectHitsD.dir_track_length',\n",
    "#'SPEFit2_HVFitParams.nmini'                       ,\n",
    "#'LineFitGeoSplit2.zenith',\n",
    "#   'SplineMPE.zenith'    ,\n",
    "#     'SplineMPE.azimuth' \n",
    "#       'SPEFit2GeoSplit1BayesianFitParams.nmini',\n",
    "#       'SPEFit2Bayesian.x',\n",
    "#       'VariousVariables.Cone_Angle',\n",
    "#       'SPEFit2TimeSplit1FitParams.logl',\n",
    "#       'weight_honda_h4a']]\n",
    "X = df[['SPEFit2Bayesian.x',\n",
    "        'SPEFit2BayesianFitParams.nmini',\n",
    "        'SPEFit2_HVFitParams.nmini',\n",
    "        'SplineMPE.zenith',\n",
    "        'SplineMPECharacteristicsIC.avg_dom_dist_q_tot_dom',\n",
    "        'SplineMPEDirectHitsD.dir_track_length',\n",
    "        'SplineMPEDirectHitsICB.n_early_strings',\n",
    "        'SplineMPEDirectHitsICB.n_late_doms',\n",
    "        'SplineMPEDirectHitsICD.n_dir_strings',\n",
    "        'SplineMPEDirectHitsICE.n_late_strings',\n",
    "        'SplineMPETruncatedEnergy_SPICEMie_AllDOMS_MuEres.value']]\n",
    "#SplineMPEDirectHitsICE.n_dir_doms\n",
    "#VariousVariables.Cone_Angle\n",
    "#SplineMPECramerRaoParams.variance_theta\n",
    "#Borderness.Q_ratio_in_border\n",
    "#SplineMPETruncatedEnergy_SPICEMie_BINS_MuEres.value\n",
    "#SplineMPETruncatesEnergy_SPICEMie_DOMS_Neutrino.energy\n",
    "#SplineMPEDirectHitsICB.n_late_doms\n",
    "#Dustyness.n_doms_in_dust\n",
    "#LineFitGeoSplit1Params.n_hits\n",
    "#SplineMPEDirectHitsICC.dir_track_hit_distribution_sm...\n",
    "#SPEFit2GeoSplit1BayesianFitParams.logl\n",
    "#SplineMPECharacteristicsIC.avg_dom_dist_q_tot_dom\n",
    "Y = df['MCPrimary.energy']\n",
    "def rate_contr(contr):\n",
    "    rating=0\n",
    "    indices=[]\n",
    "    contr_1st=contr.argsort()[:,-1]#returns indices of the highest value\n",
    "    contr_2nd=contr.argsort()[:,-2]#return indices of the 2nd highest value\n",
    "    \n",
    "    contr_gap=contr_1st-contr_2nd#array of distances between the highest and 2nd highest bin\n",
    "    for i in range(len(contr)):\n",
    "        if contr_gap[i]>2:\n",
    "            rating=rating+1\n",
    "            indices.append(i)\n",
    "        elif contr_gap[i]<(-2):\n",
    "            rating=rating+1\n",
    "            indices.append(i)\n",
    "            \n",
    "    return rating, indices     \n",
    "#'Dustyness.n_doms_in_dust','BestTrackDirectHitsICC.n_early_strings',\n",
    "binning_E = np.logspace(np.log10(Y.min()-10),\n",
    "np.log10(Y.max()+100), 13)    # creating 12 bins for the energy \n",
    "\n",
    "\n",
    "\n",
    "#Binning overflow & underflow manually\n",
    "#overflow = 1e10\n",
    "#bins_over = np.append(binning_E,overflow)\n",
    "#binning_E = bins_over\n",
    "\n",
    "Y = np.digitize(Y, binning_E)  \n",
    "\n",
    "Y = Y - 1\n",
    "\n",
    "bin_1=[i for i in binning_E[:-1]]\n",
    "bin_2=[i for i in binning_E[1:]]\n",
    "bin_centers = np.mean([bin_1, bin_2], axis=0)\n",
    "n_test = int(len(df)/10)\n",
    "\n",
    "X_train = X.iloc[n_test:]#splitting the dataframe\n",
    "Y_train = Y[n_test:]\n",
    "\n",
    "X_test = X.iloc[:n_test]\n",
    "Y_test = Y[:n_test]\n",
    "\n",
    "f_true = util.fit_pdf(Y_test) \n",
    "f_true\n",
    "\n"
   ]
  },
  {
   "cell_type": "code",
   "execution_count": 40,
   "metadata": {},
   "outputs": [
    {
     "name": "stdout",
     "output_type": "stream",
     "text": [
      "Chi square distance between f_est and f_true: 0.24776787086877494\n"
     ]
    }
   ],
   "source": [
    "from cherenkovdeconvolution import dsea\n",
    "from sklearn.naive_bayes import GaussianNB\n",
    "#from sklearn.naive_bayes import BernoulliNB #worse than gaussian\n",
    "#from sklearn.tree import DecisionTreeClassifier\n",
    "#from sklearn.tree import ExtraTreeClassifier # works extremly good on the data\n",
    "#from sklearn.ensemble import RandomForestClassifier# super slow; about the same results as ExtraTree\n",
    "\n",
    "f_est,contr = dsea(X_test, X_train, Y_train, GaussianNB(), K=3,return_contributions = True)\n",
    "print('Chi square distance between f_est and f_true: {}'.format(util.chi2s(f_est, f_true)))"
   ]
  },
  {
   "cell_type": "code",
   "execution_count": 37,
   "metadata": {},
   "outputs": [
    {
     "data": {
      "text/plain": [
       "(array([0.00059952, 0.02024503, 0.5001085 , 0.40318772, 0.05861266,\n",
       "        0.01195331, 0.00177358, 0.00220296, 0.00054636, 0.00077037]),\n",
       " array([ 0. ,  1.1,  2.2,  3.3,  4.4,  5.5,  6.6,  7.7,  8.8,  9.9, 11. ]),\n",
       " [<matplotlib.patches.Polygon at 0x7ff095689730>])"
      ]
     },
     "execution_count": 37,
     "metadata": {},
     "output_type": "execute_result"
    },
    {
     "data": {
      "image/png": "[encoded data removed]",
      "text/plain": [
       "<Figure size 432x288 with 1 Axes>"
      ]
     },
     "metadata": {
      "needs_background": "light"
     },
     "output_type": "display_data"
    }
   ],
   "source": [
    "plt.hist(range(12), weights = contr[0], alpha = 0.5, histtype = 'step')"
   ]
  },
  {
   "cell_type": "code",
   "execution_count": 94,
   "metadata": {},
   "outputs": [
    {
     "data": {
      "text/plain": [
       "788"
      ]
     },
     "execution_count": 94,
     "metadata": {},
     "output_type": "execute_result"
    }
   ],
   "source": [
    "x,y=rate_contr(contr)\n",
    "x"
   ]
  },
  {
   "cell_type": "code",
   "execution_count": 93,
   "metadata": {},
   "outputs": [
    {
     "data": {
      "text/plain": [
       "(array([2.83446277e-05, 2.49143486e-03, 1.68453816e-02, 5.72472180e-02,\n",
       "        3.53532245e-01, 2.26409065e-02, 1.78692246e-02, 4.29980046e-01,\n",
       "        4.72241951e-02, 5.21410032e-02]),\n",
       " array([ 0. ,  1.1,  2.2,  3.3,  4.4,  5.5,  6.6,  7.7,  8.8,  9.9, 11. ]),\n",
       " [<matplotlib.patches.Polygon at 0x7ff09cf5b970>])"
      ]
     },
     "execution_count": 93,
     "metadata": {},
     "output_type": "execute_result"
    },
    {
     "data": {
      "image/png": "[encoded data removed]",
      "text/plain": [
       "<Figure size 432x288 with 1 Axes>"
      ]
     },
     "metadata": {
      "needs_background": "light"
     },
     "output_type": "display_data"
    }
   ],
   "source": [
    "plt.hist(range(12), weights = contr[y[1]], alpha = 0.5, histtype = 'step')"
   ]
  },
  {
   "cell_type": "code",
   "execution_count": 50,
   "metadata": {},
   "outputs": [
    {
     "data": {
      "image/png": "[encoded data removed]",
      "text/plain": [
       "<Figure size 432x288 with 1 Axes>"
      ]
     },
     "metadata": {
      "needs_background": "light"
     },
     "output_type": "display_data"
    }
   ],
   "source": [
    "from matplotlib import pyplot as plt\n",
    "#plt.hist(range(12), weights = f_true, alpha = 0.5)\n",
    "#plt.hist(range(12), weights = f_est, alpha = 0.5)\n",
    "plt.hist(bin_centers, bins = binning_E, weights = f_true, log = True, alpha= 0.5, label = 'DSEA estimate')\n",
    "plt.hist(bin_centers, bins = binning_E, weights = f_est, log = True, alpha= 0.5, label = 'DSEA estimate')\n",
    "plt.gca().set_xscale('log')\n",
    "plt.yscale('log')\n",
    "plt.show()"
   ]
  },
  {
   "cell_type": "code",
   "execution_count": 96,
   "metadata": {},
   "outputs": [
    {
     "data": {
      "image/png": "[encoded data removed]",
      "text/plain": [
       "<Figure size 432x288 with 1 Axes>"
      ]
     },
     "metadata": {
      "needs_background": "light"
     },
     "output_type": "display_data"
    }
   ],
   "source": [
    "from matplotlib import pyplot as plt\n",
    "from cherenkovdeconvolution import dsea\n",
    "from sklearn.tree import ExtraTreeClassifier\n",
    "\n",
    "f_est2, contr_extra = dsea(X_test, X_train, Y_train, ExtraTreeClassifier(),fixweighting = False, K = 3,return_contributions = True)\n",
    "plt.hist(range(12), weights = f_true, alpha = 0.5)\n",
    "plt.hist(range(12), weights = f_est2, alpha = 0.5)\n",
    "\n",
    "plt.yscale('log')\n",
    "plt.show()"
   ]
  },
  {
   "cell_type": "code",
   "execution_count": 97,
   "metadata": {},
   "outputs": [
    {
     "data": {
      "text/plain": [
       "99971"
      ]
     },
     "execution_count": 97,
     "metadata": {},
     "output_type": "execute_result"
    }
   ],
   "source": [
    "x_2,y_2=rate_contr(contr_extra)\n",
    "x_2"
   ]
  },
  {
   "cell_type": "code",
   "execution_count": 104,
   "metadata": {},
   "outputs": [
    {
     "data": {
      "text/plain": [
       "(array([9.95796593e-01, 3.82933275e-03, 2.98738005e-04, 4.24972812e-05,\n",
       "        3.22462192e-05, 1.85763972e-07, 1.82753865e-08, 2.44217696e-07,\n",
       "        6.07331079e-08, 8.42250860e-08]),\n",
       " array([ 0. ,  1.1,  2.2,  3.3,  4.4,  5.5,  6.6,  7.7,  8.8,  9.9, 11. ]),\n",
       " [<matplotlib.patches.Polygon at 0x7ff08233f130>])"
      ]
     },
     "execution_count": 104,
     "metadata": {},
     "output_type": "execute_result"
    },
    {
     "data": {
      "image/png": "[encoded data removed]",
      "text/plain": [
       "<Figure size 432x288 with 1 Axes>"
      ]
     },
     "metadata": {
      "needs_background": "light"
     },
     "output_type": "display_data"
    }
   ],
   "source": [
    "plt.hist(range(12), weights = contr[y_2[1]], alpha = 0.5, histtype = 'step')\n"
   ]
  },
  {
   "cell_type": "code",
   "execution_count": 106,
   "metadata": {},
   "outputs": [
    {
     "data": {
      "image/png": "[encoded data removed]",
      "text/plain": [
       "<Figure size 432x288 with 1 Axes>"
      ]
     },
     "metadata": {
      "needs_background": "light"
     },
     "output_type": "display_data"
    }
   ],
   "source": [
    "from cherenkovdeconvolution import dsea\n",
    "from sklearn.ensemble import RandomForestClassifier\n",
    "f_est3, contr_rf = dsea(X_test, X_train, Y_train,RandomForestClassifier(), K=3, return_contributions = True)\n",
    "plt.hist(range(12), weights = f_true, alpha = 0.5)\n",
    "plt.hist(range(12), weights = f_est3, alpha = 0.5)\n",
    "plt.yscale('log')\n",
    "plt.show()"
   ]
  },
  {
   "cell_type": "code",
   "execution_count": 113,
   "metadata": {},
   "outputs": [
    {
     "data": {
      "text/plain": [
       "(array([2.62037766e-67, 8.97879684e-24, 6.22657932e-08, 1.45945613e-02,\n",
       "        8.45195614e-01, 3.44137814e-02, 5.59500334e-03, 5.61327081e-02,\n",
       "        1.30524571e-02, 3.10158125e-02]),\n",
       " array([ 0. ,  1.1,  2.2,  3.3,  4.4,  5.5,  6.6,  7.7,  8.8,  9.9, 11. ]),\n",
       " [<matplotlib.patches.Polygon at 0x7ff07fa9e2e0>])"
      ]
     },
     "execution_count": 113,
     "metadata": {},
     "output_type": "execute_result"
    },
    {
     "data": {
      "image/png": "[encoded data removed]",
      "text/plain": [
       "<Figure size 432x288 with 1 Axes>"
      ]
     },
     "metadata": {
      "needs_background": "light"
     },
     "output_type": "display_data"
    }
   ],
   "source": [
    "x_3,y_3=rate_contr(contr_rf)\n",
    "\n",
    "plt.hist(range(12), weights = contr[y_3[10]], alpha = 0.5, histtype = 'step')"
   ]
  },
  {
   "cell_type": "code",
   "execution_count": 7,
   "metadata": {},
   "outputs": [
    {
     "data": {
      "image/png": "[encoded data removed]",
      "text/plain": [
       "<Figure size 432x288 with 1 Axes>"
      ]
     },
     "metadata": {
      "needs_background": "light"
     },
     "output_type": "display_data"
    }
   ],
   "source": [
    "from cherenkovdeconvolution import dsea\n",
    "from sklearn.tree import DecisionTreeClassifier\n",
    "f_est4 = dsea(X_test, X_train, Y_train,DecisionTreeClassifier(), K=3) \n",
    "plt.hist(range(12), weights = f_true, alpha = 0.5)\n",
    "plt.hist(range(12), weights = f_est4, alpha = 0.5)\n",
    "plt.yscale('log')\n",
    "plt.show()"
   ]
  },
  {
   "cell_type": "code",
   "execution_count": 10,
   "metadata": {},
   "outputs": [
    {
     "name": "stdout",
     "output_type": "stream",
     "text": [
      "0\n",
      "1\n",
      "2\n",
      "3\n"
     ]
    },
    {
     "data": {
      "image/png": "[encoded data removed]",
      "text/plain": [
       "<Figure size 432x288 with 1 Axes>"
      ]
     },
     "metadata": {
      "needs_background": "light"
     },
     "output_type": "display_data"
    }
   ],
   "source": [
    "import cherenkovdeconvolution.stepsize as stepsize\n",
    "\n",
    "# first of all, we set up an inspection function, which prints the step size of each iteration\n",
    "def inspect_alpha(k, alpha, chi2s, f): # you can define custom inspection methods to investigate DSEA\n",
    "    print(alpha)\n",
    "\n",
    "# There are two decay rates, the first of which is comparably slow\n",
    "alpha_mul = stepsize.decay_mul(0.5)\n",
    "f_est_mul = dsea(X_test, X_train, Y_train, GaussianNB(), K = 3, inspect = inspect_alpha, alpha = alpha_mul)\n",
    "plt.hist(range(12), weights = f_true, alpha = 0.5)\n",
    "plt.hist(range(12), weights = f_est_mul, alpha = 0.5)\n",
    "plt.yscale('log')\n",
    "plt.show()"
   ]
  },
  {
   "cell_type": "code",
   "execution_count": 13,
   "metadata": {},
   "outputs": [
    {
     "name": "stdout",
     "output_type": "stream",
     "text": [
      "0\n",
      "1\n",
      "2\n"
     ]
    },
    {
     "data": {
      "image/png": "[encoded data removed]",
      "text/plain": [
       "<Figure size 432x288 with 1 Axes>"
      ]
     },
     "metadata": {
      "needs_background": "light"
     },
     "output_type": "display_data"
    }
   ],
   "source": [
    "alpha_exp = stepsize.decay_exp(0.5, 2.0) # start with step size 2\n",
    "f_est_exp = dsea(X_test, X_train, Y_train, GaussianNB(), K = 3, inspect = inspect_alpha,  alpha = alpha_exp)\n",
    "plt.hist(range(12), weights = f_true, alpha = 0.5)\n",
    "plt.hist(range(12), weights = f_est_exp, alpha = 0.5)\n",
    "plt.yscale('log')\n",
    "plt.show()"
   ]
  },
  {
   "cell_type": "code",
   "execution_count": 27,
   "metadata": {},
   "outputs": [
    {
     "name": "stdout",
     "output_type": "stream",
     "text": [
      "Iteration 0: alpha = nan\n",
      "Iteration 1: alpha = 0.9988924213528076\n",
      "Iteration 2: alpha = 5.663671779334335e-14\n",
      "Iteration 3: alpha = 4.9999644209182255e-14\n",
      "Chi square distance between f_est and f_true: 0.22142138938142164\n"
     ]
    },
    {
     "data": {
      "text/plain": [
       "array([0.41099392, 0.22127159, 0.16646245, 0.0853378 , 0.04667541,\n",
       "       0.03840207, 0.00767099, 0.00349916, 0.00720699, 0.00459314,\n",
       "       0.00350665, 0.00437982])"
      ]
     },
     "execution_count": 27,
     "metadata": {},
     "output_type": "execute_result"
    }
   ],
   "source": [
    "from cherenkovdeconvolution.discretize import TreeDiscretizer\n",
    "discretizer = TreeDiscretizer(X_train, Y_train, 4)\n",
    "x_data  = discretizer.discretize(X_test)\n",
    "x_train = discretizer.discretize(X_train)\n",
    "alpha = stepsize.alpha_adaptive_run(x_data, x_train, Y_train, tau = 0, bins_y = [0,  1,  2,  3,  4,  5,  6,  7,  8,  9, 10, 11])\n",
    "\n",
    "# inspect the chosen alpha values with a callback function\n",
    "def inspect_alpha(f, k, a, chi2s): # this signature is mandatory. Here, f is the latest estimate.\n",
    "    print('Iteration {}: alpha = {}'.format(k, a)) # print iteration number and alpha value\n",
    "# deconvolve\n",
    "f_est = dsea(X_test, X_train, Y_train, GaussianNB(), K = 3, alpha = alpha,inspect = inspect_alpha)\n",
    "print('Chi square distance between f_est and f_true: {}'.format(util.chi2s(f_est, f_true)))\n",
    "f_est"
   ]
  },
  {
   "cell_type": "code",
   "execution_count": 32,
   "metadata": {},
   "outputs": [
    {
     "name": "stderr",
     "output_type": "stream",
     "text": [
      "/home/jajaek/.local/anaconda3/lib/python3.8/site-packages/sklearn/linear_model/_logistic.py:762: ConvergenceWarning: lbfgs failed to converge (status=1):\n",
      "STOP: TOTAL NO. of ITERATIONS REACHED LIMIT.\n",
      "\n",
      "Increase the number of iterations (max_iter) or scale the data as shown in:\n",
      "    https://scikit-learn.org/stable/modules/preprocessing.html\n",
      "Please also refer to the documentation for alternative solver options:\n",
      "    https://scikit-learn.org/stable/modules/linear_model.html#logistic-regression\n",
      "  n_iter_i = _check_optimize_result(\n"
     ]
    },
    {
     "data": {
      "image/png": "[encoded data removed]",
      "text/plain": [
       "<Figure size 432x288 with 1 Axes>"
      ]
     },
     "metadata": {
      "needs_background": "light"
     },
     "output_type": "display_data"
    }
   ],
   "source": [
    "from sklearn.linear_model import LogisticRegression\n",
    "\n",
    "f_logi = dsea(X_test, X_train, Y_train,LogisticRegression(), K=1) \n",
    "plt.hist(range(12), weights = f_true, alpha = 0.5)\n",
    "plt.hist(range(12), weights = f_logi, alpha = 0.5)\n",
    "plt.yscale('log')\n",
    "plt.show()"
   ]
  },
  {
   "cell_type": "code",
   "execution_count": 7,
   "metadata": {},
   "outputs": [
    {
     "data": {
      "text/plain": [
       "array([0.05834189, 0.0796879 , 0.09175746, 0.09737599, 0.10063295,\n",
       "       0.09989575, 0.0956372 , 0.09148121, 0.08473384, 0.07363908,\n",
       "       0.06470635, 0.06211038])"
      ]
     },
     "execution_count": 7,
     "metadata": {},
     "output_type": "execute_result"
    }
   ],
   "source": [
    "from cherenkovdeconvolution import dsea\n",
    "from sklearn.linear_model import LogisticRegression\n",
    "\n",
    "f_multi = dsea(X_test, X_train, Y_train,LogisticRegression(solver='saga',multi_class='multinomial',max_iter=10000), K=3)\n",
    "f_multi"
   ]
  },
  {
   "cell_type": "code",
   "execution_count": 8,
   "metadata": {},
   "outputs": [
    {
     "data": {
      "text/plain": [
       "array([4.04024442e-03, 5.82009535e-02, 2.98888201e-01, 4.06214189e-01,\n",
       "       1.78398832e-01, 4.42148696e-02, 8.21392319e-03, 1.44996711e-03,\n",
       "       3.01953052e-04, 6.46942031e-05, 1.16346633e-05, 5.39056535e-07])"
      ]
     },
     "execution_count": 8,
     "metadata": {},
     "output_type": "execute_result"
    }
   ],
   "source": [
    "from mord import LogisticSE\n",
    "from cherenkovdeconvolution import dsea\n",
    "\n",
    "f_ord=dsea(X_test, X_train, Y_train,LogisticSE(alpha=1.), K = 3)\n",
    "f_ord"
   ]
  },
  {
   "cell_type": "code",
   "execution_count": 12,
   "metadata": {},
   "outputs": [
    {
     "data": {
      "image/png": "[encoded data removed]",
      "text/plain": [
       "<Figure size 432x288 with 1 Axes>"
      ]
     },
     "metadata": {
      "needs_background": "light"
     },
     "output_type": "display_data"
    }
   ],
   "source": [
    "from matplotlib import pyplot as plt\n",
    "plt.hist(range(12), weights = f_true, alpha = 0.5)\n",
    "plt.hist(range(12), weights = f_multi, alpha = 0.5)\n",
    "plt.yscale('log')\n",
    "plt.show()\n"
   ]
  },
  {
   "cell_type": "code",
   "execution_count": 13,
   "metadata": {},
   "outputs": [
    {
     "name": "stdout",
     "output_type": "stream",
     "text": [
      "Chi square distance between f_est and f_true: 1.8169194441082137\n"
     ]
    }
   ],
   "source": [
    "print('Chi square distance between f_est and f_true: {}'.format(util.chi2s(f_multi, f_true)))"
   ]
  },
  {
   "cell_type": "code",
   "execution_count": 15,
   "metadata": {},
   "outputs": [
    {
     "data": {
      "image/png": "[encoded data removed]",
      "text/plain": [
       "<Figure size 432x288 with 1 Axes>"
      ]
     },
     "metadata": {
      "needs_background": "light"
     },
     "output_type": "display_data"
    },
    {
     "name": "stdout",
     "output_type": "stream",
     "text": [
      "Chi square distance between f_est and f_true: 1.5687256585874765\n"
     ]
    }
   ],
   "source": [
    "plt.hist(range(12), weights = f_true, alpha = 0.5)\n",
    "plt.hist(range(12), weights = f_ord, alpha = 0.5)\n",
    "plt.yscale('log')\n",
    "plt.show()\n",
    "print('Chi square distance between f_est and f_true: {}'.format(util.chi2s(f_ord, f_true)))"
   ]
  },
  {
   "cell_type": "code",
   "execution_count": null,
   "metadata": {},
   "outputs": [],
   "source": []
  }
 ],
 "metadata": {
  "kernelspec": {
   "display_name": "Python 3",
   "language": "python",
   "name": "python3"
  },
  "language_info": {
   "codemirror_mode": {
    "name": "ipython",
    "version": 3
   },
   "file_extension": ".py",
   "mimetype": "text/x-python",
   "name": "python",
   "nbconvert_exporter": "python",
   "pygments_lexer": "ipython3",
   "version": "3.8.3"
  }
 },
 "nbformat": 4,
 "nbformat_minor": 4
}
